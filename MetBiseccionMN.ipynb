{
  "nbformat": 4,
  "nbformat_minor": 0,
  "metadata": {
    "colab": {
      "name": "MetBiseccionMN",
      "provenance": [],
      "collapsed_sections": [],
      "authorship_tag": "ABX9TyPMsjBxpd+5PxHR4XgR+HwL",
      "include_colab_link": true
    },
    "kernelspec": {
      "name": "python3",
      "display_name": "Python 3"
    },
    "language_info": {
      "name": "python"
    }
  },
  "cells": [
    {
      "cell_type": "markdown",
      "metadata": {
        "id": "view-in-github",
        "colab_type": "text"
      },
      "source": [
        "<a href=\"https://colab.research.google.com/github/sofiaarbasetti/CalculoNumericoIBM-1/blob/main/MetBiseccionMN.ipynb\" target=\"_parent\"><img src=\"https://colab.research.google.com/assets/colab-badge.svg\" alt=\"Open In Colab\"/></a>"
      ]
    },
    {
      "cell_type": "markdown",
      "metadata": {
        "id": "QhNmw8m_1HPs"
      },
      "source": [
        "# MÉTODO 1 - BISECCIÓN"
      ]
    },
    {
      "cell_type": "markdown",
      "metadata": {
        "id": "Eze1vuQW1XSr"
      },
      "source": [
        "## Graficar funciones"
      ]
    },
    {
      "cell_type": "code",
      "metadata": {
        "colab": {
          "base_uri": "https://localhost:8080/",
          "height": 316
        },
        "id": "9FWPVwG0sdgh",
        "outputId": "9b7728ae-9fa5-4873-e90a-26ebddfa6dd8"
      },
      "source": [
        "import matplotlib.pyplot as plt\n",
        "import sympy as sp\n",
        "\n",
        "x = sp.symbols('x')\n",
        "f = 2*x**2 - 6*x \n",
        "\n",
        "# plot\n",
        "from sympy.plotting import plot\n",
        "p1 = plot(f, show=True)\n",
        "\n",
        "#roots\n",
        "sp.roots(f, multiple=True)\n",
        "\n",
        "#evaluar la f(x)\n",
        "f.subs(x,1)"
      ],
      "execution_count": 2,
      "outputs": [
        {
          "output_type": "display_data",
          "data": {
            "image/png": "[encoded data removed]",
            "text/plain": [
              "<Figure size 432x288 with 1 Axes>"
            ]
          },
          "metadata": {
            "needs_background": "light"
          }
        },
        {
          "output_type": "execute_result",
          "data": {
            "text/latex": "$\\displaystyle -4$",
            "text/plain": [
              "-4"
            ]
          },
          "metadata": {},
          "execution_count": 2
        }
      ]
    },
    {
      "cell_type": "markdown",
      "metadata": {
        "id": "8XtEF7FN1wpo"
      },
      "source": [
        "## Definir y probar función"
      ]
    },
    {
      "cell_type": "code",
      "metadata": {
        "id": "C_nP__6VzA2N"
      },
      "source": [
        "def fx(x):\n",
        "  return 2*x**2 - 6*x"
      ],
      "execution_count": 3,
      "outputs": []
    },
    {
      "cell_type": "code",
      "metadata": {
        "colab": {
          "base_uri": "https://localhost:8080/"
        },
        "id": "AjVN6R8k0heA",
        "outputId": "e2929936-1f7f-401b-ada5-d519e1bd5be6"
      },
      "source": [
        "fx(3)"
      ],
      "execution_count": null,
      "outputs": [
        {
          "output_type": "execute_result",
          "data": {
            "text/plain": [
              "0"
            ]
          },
          "metadata": {},
          "execution_count": 3
        }
      ]
    },
    {
      "cell_type": "markdown",
      "metadata": {
        "id": "JlgvZUQs1IHv"
      },
      "source": [
        "## Iteración 1"
      ]
    },
    {
      "cell_type": "code",
      "metadata": {
        "id": "4zZ2i35o0maC",
        "colab": {
          "base_uri": "https://localhost:8080/"
        },
        "outputId": "8f1e70f3-e90e-4595-ddf4-23726c16e651"
      },
      "source": [
        "a = 1\n",
        "b = 8\n",
        "\n",
        "fx(a)*fx(b)"
      ],
      "execution_count": null,
      "outputs": [
        {
          "output_type": "execute_result",
          "data": {
            "text/plain": [
              "-320"
            ]
          },
          "metadata": {},
          "execution_count": 9
        }
      ]
    },
    {
      "cell_type": "code",
      "metadata": {
        "id": "PXrY5IVesnbX"
      },
      "source": [
        "c= (a+b)/2"
      ],
      "execution_count": null,
      "outputs": []
    },
    {
      "cell_type": "code",
      "metadata": {
        "colab": {
          "base_uri": "https://localhost:8080/"
        },
        "id": "3bCAs5IJsshg",
        "outputId": "a0f0e122-bfb8-4042-b1bc-0b46b8726140"
      },
      "source": [
        "if (fx(a)*fx(c)== 0):\n",
        "  print (\"La raíz es: \", c)\n",
        "elif (fx(a)*fx(c)< 0):\n",
        "  b=c\n",
        "  print (\"Ahora b vale: \", b)\n",
        "else:\n",
        "  a=c\n",
        "  print (\"Ahora a vale: \", a)"
      ],
      "execution_count": 10,
      "outputs": [
        {
          "output_type": "stream",
          "name": "stdout",
          "text": [
            "La raíz es:  3.2681101221713276e-165\n"
          ]
        }
      ]
    },
    {
      "cell_type": "markdown",
      "metadata": {
        "id": "ExrDKh1D174l"
      },
      "source": [
        "## Loop de Bisección"
      ]
    },
    {
      "cell_type": "code",
      "metadata": {
        "colab": {
          "base_uri": "https://localhost:8080/"
        },
        "id": "1moJrff9ZmDc",
        "outputId": "3d950f43-0f00-4f0a-d22f-f898497f4221"
      },
      "source": [
        "def fx(x):\n",
        "  return 2*x**2 - 6*x\n",
        "a = 1\n",
        "b = 10\n",
        "contador = 0\n",
        "\n",
        "valores_a = [] # Van guardando los valores de de las variables en cada iteración\n",
        "valores_b = []\n",
        "valores_c = []\n",
        "valores_fc = []\n",
        "\n",
        "while (fx(a)*fx(b)< 0):\n",
        "  contador = contador + 1\n",
        "  c= (a+b)/2\n",
        "  valores_a.append(a)\n",
        "  valores_b.append(b)\n",
        "  valores_c.append(c)\n",
        "  valores_fc.append(fx(c))\n",
        "  if (fx(a)*fx(c)== 0):\n",
        "    print (\"La raíz es: \", c)\n",
        "    print (\"Se halló la raíz en la iteración N°\", contador)\n",
        "    break\n",
        "  elif (fx(a)*fx(c)< 0):\n",
        "    b=c\n",
        "  else:\n",
        "    a=c\n",
        "\n",
        "print (\"Salió del bucle\")\n",
        "\n",
        "#Meter todo en una función\n",
        "#Ver que hacer si el a o b ingresados son raíz\n",
        "#Si no entra al bucle significa que el intervalo contiene 2 raíces o ninguna\n",
        "#Puede incluirse agregar a y b por consola\n",
        "#Agregar numero de iteraciones maximo "
      ],
      "execution_count": 17,
      "outputs": [
        {
          "output_type": "stream",
          "name": "stdout",
          "text": [
            "La raíz es:  3.0\n",
            "Se halló la raíz en la iteración N° 53\n",
            "Salió del bucle\n"
          ]
        }
      ]
    },
    {
      "cell_type": "code",
      "metadata": {
        "colab": {
          "base_uri": "https://localhost:8080/",
          "height": 204
        },
        "id": "XUmAZcQ74SDJ",
        "outputId": "4d294a30-1f7f-47d4-de22-24574f0a46f0"
      },
      "source": [
        "import pandas as pd\n",
        "\n",
        "datos = {\n",
        "    'a' : valores_a,\n",
        "    'b' : valores_b,\n",
        "    'c' : valores_c,\n",
        "    'fc': valores_fc\n",
        "}\n",
        "\n",
        "df = pd.DataFrame(datos)\n",
        "\n",
        "df.head()"
      ],
      "execution_count": 18,
      "outputs": [
        {
          "output_type": "execute_result",
          "data": {
            "text/html": [
              "<div>\n",
              "<style scoped>\n",
              "    .dataframe tbody tr th:only-of-type {\n",
              "        vertical-align: middle;\n",
              "    }\n",
              "\n",
              "    .dataframe tbody tr th {\n",
              "        vertical-align: top;\n",
              "    }\n",
              "\n",
              "    .dataframe thead th {\n",
              "        text-align: right;\n",
              "    }\n",
              "</style>\n",
              "<table border=\"1\" class=\"dataframe\">\n",
              "  <thead>\n",
              "    <tr style=\"text-align: right;\">\n",
              "      <th></th>\n",
              "      <th>a</th>\n",
              "      <th>b</th>\n",
              "      <th>c</th>\n",
              "      <th>fc</th>\n",
              "    </tr>\n",
              "  </thead>\n",
              "  <tbody>\n",
              "    <tr>\n",
              "      <th>0</th>\n",
              "      <td>1.0000</td>\n",
              "      <td>10.00</td>\n",
              "      <td>5.50000</td>\n",
              "      <td>27.500000</td>\n",
              "    </tr>\n",
              "    <tr>\n",
              "      <th>1</th>\n",
              "      <td>1.0000</td>\n",
              "      <td>5.50</td>\n",
              "      <td>3.25000</td>\n",
              "      <td>1.625000</td>\n",
              "    </tr>\n",
              "    <tr>\n",
              "      <th>2</th>\n",
              "      <td>1.0000</td>\n",
              "      <td>3.25</td>\n",
              "      <td>2.12500</td>\n",
              "      <td>-3.718750</td>\n",
              "    </tr>\n",
              "    <tr>\n",
              "      <th>3</th>\n",
              "      <td>2.1250</td>\n",
              "      <td>3.25</td>\n",
              "      <td>2.68750</td>\n",
              "      <td>-1.679688</td>\n",
              "    </tr>\n",
              "    <tr>\n",
              "      <th>4</th>\n",
              "      <td>2.6875</td>\n",
              "      <td>3.25</td>\n",
              "      <td>2.96875</td>\n",
              "      <td>-0.185547</td>\n",
              "    </tr>\n",
              "  </tbody>\n",
              "</table>\n",
              "</div>"
            ],
            "text/plain": [
              "        a      b        c         fc\n",
              "0  1.0000  10.00  5.50000  27.500000\n",
              "1  1.0000   5.50  3.25000   1.625000\n",
              "2  1.0000   3.25  2.12500  -3.718750\n",
              "3  2.1250   3.25  2.68750  -1.679688\n",
              "4  2.6875   3.25  2.96875  -0.185547"
            ]
          },
          "metadata": {},
          "execution_count": 18
        }
      ]
    },
    {
      "cell_type": "code",
      "metadata": {
        "colab": {
          "base_uri": "https://localhost:8080/",
          "height": 1000
        },
        "id": "Am7UJMGz5Q2I",
        "outputId": "89f817e3-66b6-44ca-f99e-a958228e1bb0"
      },
      "source": [
        "df"
      ],
      "execution_count": 20,
      "outputs": [
        {
          "output_type": "execute_result",
          "data": {
            "text/html": [
              "<div>\n",
              "<style scoped>\n",
              "    .dataframe tbody tr th:only-of-type {\n",
              "        vertical-align: middle;\n",
              "    }\n",
              "\n",
              "    .dataframe tbody tr th {\n",
              "        vertical-align: top;\n",
              "    }\n",
              "\n",
              "    .dataframe thead th {\n",
              "        text-align: right;\n",
              "    }\n",
              "</style>\n",
              "<table border=\"1\" class=\"dataframe\">\n",
              "  <thead>\n",
              "    <tr style=\"text-align: right;\">\n",
              "      <th></th>\n",
              "      <th>a</th>\n",
              "      <th>b</th>\n",
              "      <th>c</th>\n",
              "      <th>fc</th>\n",
              "    </tr>\n",
              "  </thead>\n",
              "  <tbody>\n",
              "    <tr>\n",
              "      <th>0</th>\n",
              "      <td>1.000000</td>\n",
              "      <td>10.000000</td>\n",
              "      <td>5.500000</td>\n",
              "      <td>2.750000e+01</td>\n",
              "    </tr>\n",
              "    <tr>\n",
              "      <th>1</th>\n",
              "      <td>1.000000</td>\n",
              "      <td>5.500000</td>\n",
              "      <td>3.250000</td>\n",
              "      <td>1.625000e+00</td>\n",
              "    </tr>\n",
              "    <tr>\n",
              "      <th>2</th>\n",
              "      <td>1.000000</td>\n",
              "      <td>3.250000</td>\n",
              "      <td>2.125000</td>\n",
              "      <td>-3.718750e+00</td>\n",
              "    </tr>\n",
              "    <tr>\n",
              "      <th>3</th>\n",
              "      <td>2.125000</td>\n",
              "      <td>3.250000</td>\n",
              "      <td>2.687500</td>\n",
              "      <td>-1.679688e+00</td>\n",
              "    </tr>\n",
              "    <tr>\n",
              "      <th>4</th>\n",
              "      <td>2.687500</td>\n",
              "      <td>3.250000</td>\n",
              "      <td>2.968750</td>\n",
              "      <td>-1.855469e-01</td>\n",
              "    </tr>\n",
              "    <tr>\n",
              "      <th>5</th>\n",
              "      <td>2.968750</td>\n",
              "      <td>3.250000</td>\n",
              "      <td>3.109375</td>\n",
              "      <td>6.801758e-01</td>\n",
              "    </tr>\n",
              "    <tr>\n",
              "      <th>6</th>\n",
              "      <td>2.968750</td>\n",
              "      <td>3.109375</td>\n",
              "      <td>3.039062</td>\n",
              "      <td>2.374268e-01</td>\n",
              "    </tr>\n",
              "    <tr>\n",
              "      <th>7</th>\n",
              "      <td>2.968750</td>\n",
              "      <td>3.039062</td>\n",
              "      <td>3.003906</td>\n",
              "      <td>2.346802e-02</td>\n",
              "    </tr>\n",
              "    <tr>\n",
              "      <th>8</th>\n",
              "      <td>2.968750</td>\n",
              "      <td>3.003906</td>\n",
              "      <td>2.986328</td>\n",
              "      <td>-8.165741e-02</td>\n",
              "    </tr>\n",
              "    <tr>\n",
              "      <th>9</th>\n",
              "      <td>2.986328</td>\n",
              "      <td>3.003906</td>\n",
              "      <td>2.995117</td>\n",
              "      <td>-2.924919e-02</td>\n",
              "    </tr>\n",
              "    <tr>\n",
              "      <th>10</th>\n",
              "      <td>2.995117</td>\n",
              "      <td>3.003906</td>\n",
              "      <td>2.999512</td>\n",
              "      <td>-2.929211e-03</td>\n",
              "    </tr>\n",
              "    <tr>\n",
              "      <th>11</th>\n",
              "      <td>2.999512</td>\n",
              "      <td>3.003906</td>\n",
              "      <td>3.001709</td>\n",
              "      <td>1.025975e-02</td>\n",
              "    </tr>\n",
              "    <tr>\n",
              "      <th>12</th>\n",
              "      <td>2.999512</td>\n",
              "      <td>3.001709</td>\n",
              "      <td>3.000610</td>\n",
              "      <td>3.662854e-03</td>\n",
              "    </tr>\n",
              "    <tr>\n",
              "      <th>13</th>\n",
              "      <td>2.999512</td>\n",
              "      <td>3.000610</td>\n",
              "      <td>3.000061</td>\n",
              "      <td>3.662184e-04</td>\n",
              "    </tr>\n",
              "    <tr>\n",
              "      <th>14</th>\n",
              "      <td>2.999512</td>\n",
              "      <td>3.000061</td>\n",
              "      <td>2.999786</td>\n",
              "      <td>-1.281647e-03</td>\n",
              "    </tr>\n",
              "    <tr>\n",
              "      <th>15</th>\n",
              "      <td>2.999786</td>\n",
              "      <td>3.000061</td>\n",
              "      <td>2.999924</td>\n",
              "      <td>-4.577520e-04</td>\n",
              "    </tr>\n",
              "    <tr>\n",
              "      <th>16</th>\n",
              "      <td>2.999924</td>\n",
              "      <td>3.000061</td>\n",
              "      <td>2.999992</td>\n",
              "      <td>-4.577625e-05</td>\n",
              "    </tr>\n",
              "    <tr>\n",
              "      <th>17</th>\n",
              "      <td>2.999992</td>\n",
              "      <td>3.000061</td>\n",
              "      <td>3.000027</td>\n",
              "      <td>1.602187e-04</td>\n",
              "    </tr>\n",
              "    <tr>\n",
              "      <th>18</th>\n",
              "      <td>2.999992</td>\n",
              "      <td>3.000027</td>\n",
              "      <td>3.000010</td>\n",
              "      <td>5.722064e-05</td>\n",
              "    </tr>\n",
              "    <tr>\n",
              "      <th>19</th>\n",
              "      <td>2.999992</td>\n",
              "      <td>3.000010</td>\n",
              "      <td>3.000001</td>\n",
              "      <td>5.722048e-06</td>\n",
              "    </tr>\n",
              "    <tr>\n",
              "      <th>20</th>\n",
              "      <td>2.999992</td>\n",
              "      <td>3.000001</td>\n",
              "      <td>2.999997</td>\n",
              "      <td>-2.002714e-05</td>\n",
              "    </tr>\n",
              "    <tr>\n",
              "      <th>21</th>\n",
              "      <td>2.999997</td>\n",
              "      <td>3.000001</td>\n",
              "      <td>2.999999</td>\n",
              "      <td>-7.152555e-06</td>\n",
              "    </tr>\n",
              "    <tr>\n",
              "      <th>22</th>\n",
              "      <td>2.999999</td>\n",
              "      <td>3.000001</td>\n",
              "      <td>3.000000</td>\n",
              "      <td>-7.152557e-07</td>\n",
              "    </tr>\n",
              "    <tr>\n",
              "      <th>23</th>\n",
              "      <td>3.000000</td>\n",
              "      <td>3.000001</td>\n",
              "      <td>3.000000</td>\n",
              "      <td>2.503395e-06</td>\n",
              "    </tr>\n",
              "    <tr>\n",
              "      <th>24</th>\n",
              "      <td>3.000000</td>\n",
              "      <td>3.000000</td>\n",
              "      <td>3.000000</td>\n",
              "      <td>8.940697e-07</td>\n",
              "    </tr>\n",
              "    <tr>\n",
              "      <th>25</th>\n",
              "      <td>3.000000</td>\n",
              "      <td>3.000000</td>\n",
              "      <td>3.000000</td>\n",
              "      <td>8.940697e-08</td>\n",
              "    </tr>\n",
              "    <tr>\n",
              "      <th>26</th>\n",
              "      <td>3.000000</td>\n",
              "      <td>3.000000</td>\n",
              "      <td>3.000000</td>\n",
              "      <td>-3.129244e-07</td>\n",
              "    </tr>\n",
              "    <tr>\n",
              "      <th>27</th>\n",
              "      <td>3.000000</td>\n",
              "      <td>3.000000</td>\n",
              "      <td>3.000000</td>\n",
              "      <td>-1.117587e-07</td>\n",
              "    </tr>\n",
              "    <tr>\n",
              "      <th>28</th>\n",
              "      <td>3.000000</td>\n",
              "      <td>3.000000</td>\n",
              "      <td>3.000000</td>\n",
              "      <td>-1.117587e-08</td>\n",
              "    </tr>\n",
              "    <tr>\n",
              "      <th>29</th>\n",
              "      <td>3.000000</td>\n",
              "      <td>3.000000</td>\n",
              "      <td>3.000000</td>\n",
              "      <td>3.911555e-08</td>\n",
              "    </tr>\n",
              "    <tr>\n",
              "      <th>30</th>\n",
              "      <td>3.000000</td>\n",
              "      <td>3.000000</td>\n",
              "      <td>3.000000</td>\n",
              "      <td>1.396984e-08</td>\n",
              "    </tr>\n",
              "    <tr>\n",
              "      <th>31</th>\n",
              "      <td>3.000000</td>\n",
              "      <td>3.000000</td>\n",
              "      <td>3.000000</td>\n",
              "      <td>1.396984e-09</td>\n",
              "    </tr>\n",
              "    <tr>\n",
              "      <th>32</th>\n",
              "      <td>3.000000</td>\n",
              "      <td>3.000000</td>\n",
              "      <td>3.000000</td>\n",
              "      <td>-4.889444e-09</td>\n",
              "    </tr>\n",
              "    <tr>\n",
              "      <th>33</th>\n",
              "      <td>3.000000</td>\n",
              "      <td>3.000000</td>\n",
              "      <td>3.000000</td>\n",
              "      <td>-1.746230e-09</td>\n",
              "    </tr>\n",
              "    <tr>\n",
              "      <th>34</th>\n",
              "      <td>3.000000</td>\n",
              "      <td>3.000000</td>\n",
              "      <td>3.000000</td>\n",
              "      <td>-1.746230e-10</td>\n",
              "    </tr>\n",
              "    <tr>\n",
              "      <th>35</th>\n",
              "      <td>3.000000</td>\n",
              "      <td>3.000000</td>\n",
              "      <td>3.000000</td>\n",
              "      <td>6.111804e-10</td>\n",
              "    </tr>\n",
              "    <tr>\n",
              "      <th>36</th>\n",
              "      <td>3.000000</td>\n",
              "      <td>3.000000</td>\n",
              "      <td>3.000000</td>\n",
              "      <td>2.182787e-10</td>\n",
              "    </tr>\n",
              "    <tr>\n",
              "      <th>37</th>\n",
              "      <td>3.000000</td>\n",
              "      <td>3.000000</td>\n",
              "      <td>3.000000</td>\n",
              "      <td>2.182787e-11</td>\n",
              "    </tr>\n",
              "    <tr>\n",
              "      <th>38</th>\n",
              "      <td>3.000000</td>\n",
              "      <td>3.000000</td>\n",
              "      <td>3.000000</td>\n",
              "      <td>-7.639755e-11</td>\n",
              "    </tr>\n",
              "    <tr>\n",
              "      <th>39</th>\n",
              "      <td>3.000000</td>\n",
              "      <td>3.000000</td>\n",
              "      <td>3.000000</td>\n",
              "      <td>-2.728484e-11</td>\n",
              "    </tr>\n",
              "    <tr>\n",
              "      <th>40</th>\n",
              "      <td>3.000000</td>\n",
              "      <td>3.000000</td>\n",
              "      <td>3.000000</td>\n",
              "      <td>-2.728484e-12</td>\n",
              "    </tr>\n",
              "    <tr>\n",
              "      <th>41</th>\n",
              "      <td>3.000000</td>\n",
              "      <td>3.000000</td>\n",
              "      <td>3.000000</td>\n",
              "      <td>9.549694e-12</td>\n",
              "    </tr>\n",
              "    <tr>\n",
              "      <th>42</th>\n",
              "      <td>3.000000</td>\n",
              "      <td>3.000000</td>\n",
              "      <td>3.000000</td>\n",
              "      <td>3.410605e-12</td>\n",
              "    </tr>\n",
              "    <tr>\n",
              "      <th>43</th>\n",
              "      <td>3.000000</td>\n",
              "      <td>3.000000</td>\n",
              "      <td>3.000000</td>\n",
              "      <td>3.410605e-13</td>\n",
              "    </tr>\n",
              "    <tr>\n",
              "      <th>44</th>\n",
              "      <td>3.000000</td>\n",
              "      <td>3.000000</td>\n",
              "      <td>3.000000</td>\n",
              "      <td>-1.193712e-12</td>\n",
              "    </tr>\n",
              "    <tr>\n",
              "      <th>45</th>\n",
              "      <td>3.000000</td>\n",
              "      <td>3.000000</td>\n",
              "      <td>3.000000</td>\n",
              "      <td>-4.263256e-13</td>\n",
              "    </tr>\n",
              "    <tr>\n",
              "      <th>46</th>\n",
              "      <td>3.000000</td>\n",
              "      <td>3.000000</td>\n",
              "      <td>3.000000</td>\n",
              "      <td>-4.263256e-14</td>\n",
              "    </tr>\n",
              "    <tr>\n",
              "      <th>47</th>\n",
              "      <td>3.000000</td>\n",
              "      <td>3.000000</td>\n",
              "      <td>3.000000</td>\n",
              "      <td>1.492140e-13</td>\n",
              "    </tr>\n",
              "    <tr>\n",
              "      <th>48</th>\n",
              "      <td>3.000000</td>\n",
              "      <td>3.000000</td>\n",
              "      <td>3.000000</td>\n",
              "      <td>5.329071e-14</td>\n",
              "    </tr>\n",
              "    <tr>\n",
              "      <th>49</th>\n",
              "      <td>3.000000</td>\n",
              "      <td>3.000000</td>\n",
              "      <td>3.000000</td>\n",
              "      <td>3.552714e-15</td>\n",
              "    </tr>\n",
              "    <tr>\n",
              "      <th>50</th>\n",
              "      <td>3.000000</td>\n",
              "      <td>3.000000</td>\n",
              "      <td>3.000000</td>\n",
              "      <td>-1.776357e-14</td>\n",
              "    </tr>\n",
              "    <tr>\n",
              "      <th>51</th>\n",
              "      <td>3.000000</td>\n",
              "      <td>3.000000</td>\n",
              "      <td>3.000000</td>\n",
              "      <td>-3.552714e-15</td>\n",
              "    </tr>\n",
              "    <tr>\n",
              "      <th>52</th>\n",
              "      <td>3.000000</td>\n",
              "      <td>3.000000</td>\n",
              "      <td>3.000000</td>\n",
              "      <td>0.000000e+00</td>\n",
              "    </tr>\n",
              "  </tbody>\n",
              "</table>\n",
              "</div>"
            ],
            "text/plain": [
              "           a          b         c            fc\n",
              "0   1.000000  10.000000  5.500000  2.750000e+01\n",
              "1   1.000000   5.500000  3.250000  1.625000e+00\n",
              "2   1.000000   3.250000  2.125000 -3.718750e+00\n",
              "3   2.125000   3.250000  2.687500 -1.679688e+00\n",
              "4   2.687500   3.250000  2.968750 -1.855469e-01\n",
              "5   2.968750   3.250000  3.109375  6.801758e-01\n",
              "6   2.968750   3.109375  3.039062  2.374268e-01\n",
              "7   2.968750   3.039062  3.003906  2.346802e-02\n",
              "8   2.968750   3.003906  2.986328 -8.165741e-02\n",
              "9   2.986328   3.003906  2.995117 -2.924919e-02\n",
              "10  2.995117   3.003906  2.999512 -2.929211e-03\n",
              "11  2.999512   3.003906  3.001709  1.025975e-02\n",
              "12  2.999512   3.001709  3.000610  3.662854e-03\n",
              "13  2.999512   3.000610  3.000061  3.662184e-04\n",
              "14  2.999512   3.000061  2.999786 -1.281647e-03\n",
              "15  2.999786   3.000061  2.999924 -4.577520e-04\n",
              "16  2.999924   3.000061  2.999992 -4.577625e-05\n",
              "17  2.999992   3.000061  3.000027  1.602187e-04\n",
              "18  2.999992   3.000027  3.000010  5.722064e-05\n",
              "19  2.999992   3.000010  3.000001  5.722048e-06\n",
              "20  2.999992   3.000001  2.999997 -2.002714e-05\n",
              "21  2.999997   3.000001  2.999999 -7.152555e-06\n",
              "22  2.999999   3.000001  3.000000 -7.152557e-07\n",
              "23  3.000000   3.000001  3.000000  2.503395e-06\n",
              "24  3.000000   3.000000  3.000000  8.940697e-07\n",
              "25  3.000000   3.000000  3.000000  8.940697e-08\n",
              "26  3.000000   3.000000  3.000000 -3.129244e-07\n",
              "27  3.000000   3.000000  3.000000 -1.117587e-07\n",
              "28  3.000000   3.000000  3.000000 -1.117587e-08\n",
              "29  3.000000   3.000000  3.000000  3.911555e-08\n",
              "30  3.000000   3.000000  3.000000  1.396984e-08\n",
              "31  3.000000   3.000000  3.000000  1.396984e-09\n",
              "32  3.000000   3.000000  3.000000 -4.889444e-09\n",
              "33  3.000000   3.000000  3.000000 -1.746230e-09\n",
              "34  3.000000   3.000000  3.000000 -1.746230e-10\n",
              "35  3.000000   3.000000  3.000000  6.111804e-10\n",
              "36  3.000000   3.000000  3.000000  2.182787e-10\n",
              "37  3.000000   3.000000  3.000000  2.182787e-11\n",
              "38  3.000000   3.000000  3.000000 -7.639755e-11\n",
              "39  3.000000   3.000000  3.000000 -2.728484e-11\n",
              "40  3.000000   3.000000  3.000000 -2.728484e-12\n",
              "41  3.000000   3.000000  3.000000  9.549694e-12\n",
              "42  3.000000   3.000000  3.000000  3.410605e-12\n",
              "43  3.000000   3.000000  3.000000  3.410605e-13\n",
              "44  3.000000   3.000000  3.000000 -1.193712e-12\n",
              "45  3.000000   3.000000  3.000000 -4.263256e-13\n",
              "46  3.000000   3.000000  3.000000 -4.263256e-14\n",
              "47  3.000000   3.000000  3.000000  1.492140e-13\n",
              "48  3.000000   3.000000  3.000000  5.329071e-14\n",
              "49  3.000000   3.000000  3.000000  3.552714e-15\n",
              "50  3.000000   3.000000  3.000000 -1.776357e-14\n",
              "51  3.000000   3.000000  3.000000 -3.552714e-15\n",
              "52  3.000000   3.000000  3.000000  0.000000e+00"
            ]
          },
          "metadata": {},
          "execution_count": 20
        }
      ]
    },
    {
      "cell_type": "markdown",
      "metadata": {
        "id": "sSFzn84w_DGB"
      },
      "source": [
        "## Variación de los valores "
      ]
    },
    {
      "cell_type": "code",
      "metadata": {
        "colab": {
          "base_uri": "https://localhost:8080/",
          "height": 282
        },
        "id": "rylnvw8P7mVx",
        "outputId": "fb7e463d-ad19-4eda-eab0-20c8cce2b3fc"
      },
      "source": [
        "import matplotlib.pyplot as plt\n",
        "\n",
        "df['c'].plot()  "
      ],
      "execution_count": 21,
      "outputs": [
        {
          "output_type": "execute_result",
          "data": {
            "text/plain": [
              "<matplotlib.axes._subplots.AxesSubplot at 0x7f63413e1490>"
            ]
          },
          "metadata": {},
          "execution_count": 21
        },
        {
          "output_type": "display_data",
          "data": {
            "image/png": "[encoded data removed]",
            "text/plain": [
              "<Figure size 432x288 with 1 Axes>"
            ]
          },
          "metadata": {
            "needs_background": "light"
          }
        }
      ]
    }
  ]
}