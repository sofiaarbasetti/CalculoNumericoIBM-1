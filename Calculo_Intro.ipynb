{
  "nbformat": 4,
  "nbformat_minor": 0,
  "metadata": {
    "colab": {
      "name": "Calculo-Intro",
      "provenance": [],
      "authorship_tag": "ABX9TyOpPXZqEET3r2LuuwAm+452",
      "include_colab_link": true
    },
    "kernelspec": {
      "name": "python3",
      "display_name": "Python 3"
    },
    "language_info": {
      "name": "python"
    }
  },
  "cells": [
    {
      "cell_type": "markdown",
      "metadata": {
        "id": "view-in-github",
        "colab_type": "text"
      },
      "source": [
        "<a href=\"https://colab.research.google.com/github/sofiaarbasetti/CalculoNumericoIBM-1/blob/main/Calculo_Intro.ipynb\" target=\"_parent\"><img src=\"https://colab.research.google.com/assets/colab-badge.svg\" alt=\"Open In Colab\"/></a>"
      ]
    },
    {
      "cell_type": "markdown",
      "metadata": {
        "id": "cqX9Ya_soKq0"
      },
      "source": [
        "##Bucle For y función print()"
      ]
    },
    {
      "cell_type": "code",
      "metadata": {
        "colab": {
          "base_uri": "https://localhost:8080/"
        },
        "id": "E2MO5uUO-M1o",
        "outputId": "7b89b4d3-e673-4346-868a-6cdea41063c4"
      },
      "source": [
        "print('Hola Mundo')\n",
        "\n",
        "# La función print() toma parámetros como enteros o strings y los imprime por consola como linea de texto\n",
        "  # Unlike many other functions, print() will accept anything regardless of its type; it doesn’t matter whether you pass a literal, a variable, or an expression.\n",
        "# El bucle for se utiliza para recorrer los elementos de un objeto iterable (lista, tupla, conjunto, diccionario, …) y ejecutar un bloque de código. \n",
        "  #En cada paso de la iteración se tiene en cuenta a un único elemento del objeto iterable, sobre el cuál se pueden aplicar una serie de operaciones.\n",
        "    #for <elem> in <iterable>:\n",
        "      #<Código>"
      ],
      "execution_count": 30,
      "outputs": [
        {
          "output_type": "stream",
          "text": [
            "Hola Mundo\n"
          ],
          "name": "stdout"
        }
      ]
    },
    {
      "cell_type": "code",
      "metadata": {
        "colab": {
          "base_uri": "https://localhost:8080/",
          "height": 120
        },
        "id": "14cgtpoK-97F",
        "outputId": "13f1cdec-3d57-4d1b-8899-845422d09e74"
      },
      "source": [
        "print(\"Comienzo\")\n",
        "for i in [0, 1, 2]:   #es lo mismo que escribir: for i in range(3):\n",
        "    print(\"Hola \", end=\"\")\n",
        "print()\n",
        "print(\"Final\")\n",
        "\n",
        "# el argumento del tipo range() controla el número de veces que se ejecuta el bucle.\n",
        "\"\"\"Si la variable de control no se va a utilizar en el cuerpo del bucle, como en los ejemplos anteriores, \n",
        "se puede utilizar el guion (_) en vez de un nombre de variable (i). Esta notación no tiene ninguna consecuencia \n",
        "con respecto al funcionamiento del programa, pero sirve de ayuda a la persona que esté leyendo el código fuente, \n",
        "que sabe así que los valores no se van a utilizar.\"\"\""
      ],
      "execution_count": 31,
      "outputs": [
        {
          "output_type": "stream",
          "text": [
            "Comienzo\n",
            "Hola Hola Hola \n",
            "Final\n"
          ],
          "name": "stdout"
        },
        {
          "output_type": "execute_result",
          "data": {
            "application/vnd.google.colaboratory.intrinsic+json": {
              "type": "string"
            },
            "text/plain": [
              "'Si la variable de control no se va a utilizar en el cuerpo del bucle, como en los ejemplos anteriores, \\nse puede utilizar el guion (_) en vez de un nombre de variable (i). Esta notación no tiene ninguna consecuencia \\ncon respecto al funcionamiento del programa, pero sirve de ayuda a la persona que esté leyendo el código fuente, \\nque sabe así que los valores no se van a utilizar.'"
            ]
          },
          "metadata": {},
          "execution_count": 31
        }
      ]
    },
    {
      "cell_type": "code",
      "metadata": {
        "colab": {
          "base_uri": "https://localhost:8080/"
        },
        "id": "M3ldRqNe_S6t",
        "outputId": "2b923044-18ad-42e3-84fd-345abd8a2ad5"
      },
      "source": [
        "print(\"Comienzo\")\n",
        "for i in range(3,6):    # range no incluye el ultimo numero del intervalo y por default comenzaría en 0\n",
        "    print(f\"Hola. Ahora i vale {i} y su cuadrado {i ** 2}\")     #la variable se escribe entre llaves\n",
        "else:\n",
        "  print(\"Final\") #else identifica un bloque de código que se ejecuta cuando termina el loop\n",
        "\n",
        "#La lista puede contener cualquier tipo de elementos, no sólo números. El bucle se repetirá siempre tantas veces \n",
        "#como elementos tenga la lista y la variable irá tomando los valores de uno en uno.\"\"\""
      ],
      "execution_count": 32,
      "outputs": [
        {
          "output_type": "stream",
          "text": [
            "Comienzo\n",
            "Hola. Ahora i vale 3 y su cuadrado 9\n",
            "Hola. Ahora i vale 4 y su cuadrado 16\n",
            "Hola. Ahora i vale 5 y su cuadrado 25\n",
            "Final\n"
          ],
          "name": "stdout"
        }
      ]
    },
    {
      "cell_type": "code",
      "metadata": {
        "colab": {
          "base_uri": "https://localhost:8080/"
        },
        "id": "SKJunmvBA0LG",
        "outputId": "911b5928-e36e-4c69-a495-5b872d847ca5"
      },
      "source": [
        "fruits = [\"apple\", \"banana\", \"cherry\"]\n",
        "for x in fruits:\n",
        "  \t\tif x == \"banana\":\n",
        "   \t\t break\n",
        "  \t\tprint(x)\n",
        "#Abandona el loop cuando x = 'banana', si el break está antes del print no imprime 'banana'\n",
        "#Si el print se escribe antes del condicional va a imprimir 'banana' y luego abandona el loop\n",
        "#Se puede utilizar como buscador de un elemento\n"
      ],
      "execution_count": 33,
      "outputs": [
        {
          "output_type": "stream",
          "text": [
            "apple\n"
          ],
          "name": "stdout"
        }
      ]
    },
    {
      "cell_type": "code",
      "metadata": {
        "colab": {
          "base_uri": "https://localhost:8080/"
        },
        "id": "QDXff5i0DT2E",
        "outputId": "648dd1f0-8a1b-4910-de2a-54d95240f5a5"
      },
      "source": [
        "fruits = [\"apple\", \"banana\", \"cherry\"]\n",
        "for x in fruits:\n",
        "  if x == \"apple\":\n",
        "    continue\n",
        "  print(x)\n",
        "#continue detiene la iteracion en curso y continua con la siguiente del bucle. Ej, no imprime banana"
      ],
      "execution_count": 35,
      "outputs": [
        {
          "output_type": "stream",
          "text": [
            "banana\n",
            "cherry\n"
          ],
          "name": "stdout"
        }
      ]
    },
    {
      "cell_type": "code",
      "metadata": {
        "colab": {
          "base_uri": "https://localhost:8080/"
        },
        "id": "LDaJkLMkFJk0",
        "outputId": "ac3defe3-86ba-436e-e421-5453e518ca31"
      },
      "source": [
        "#range() permite que el número de iteraciones dependa del desarrollo del programa. \n",
        "#En el ejemplo siguiente es el usuario quien decide cuántas veces se ejecuta el bucle:\n",
        "veces = int(input(\"¿Cuántas veces quiere que le salude? \"))\n",
        "for i in range(veces):\n",
        "    print(\"Hola \", end=\"\")\n",
        "print()\n",
        "print(\"Adiós\")"
      ],
      "execution_count": 36,
      "outputs": [
        {
          "output_type": "stream",
          "text": [
            "¿Cuántas veces quiere que le salude? 5\n",
            "Hola Hola Hola Hola Hola \n",
            "Adiós\n"
          ],
          "name": "stdout"
        }
      ]
    },
    {
      "cell_type": "code",
      "metadata": {
        "colab": {
          "base_uri": "https://localhost:8080/"
        },
        "id": "tUfJ02oUPQWG",
        "outputId": "78eacd18-8eea-41b5-b7c0-f986349e344a"
      },
      "source": [
        "#TESTIGO\n",
        "#Es una variable que indica simplemente si una condición se ha cumplido o no. \n",
        "#Es un caso particular de contador, pero se suele hacer con variables lógicas en vez de numéricas \n",
        "#En este caso, la variable que hace de testigo es la variable encontrado):\n",
        "print(\"Comienzo\")\n",
        "encontrado = False\n",
        "for i in range(1, 6):\n",
        "    if i % 2 == 0:\n",
        "        encontrado = True\n",
        "if encontrado:  #==TRUE\n",
        "    print(f\"Entre 1 y 5 hay al menos un múltiplo de 2.\")\n",
        "else:\n",
        "    print(f\"Entre 1 y 5 no hay ningún múltiplo de 2.\")  #solo se ejecuta si no se ejecutó una sentencia break\n",
        "\n",
        "#Antes del bucle se debe dar un valor inicial al testigo (en este caso, False)\n",
        "#El testigo se modifica la primera vez que la variable de control i es múltiplo de 2 y luego no cambia"
      ],
      "execution_count": 37,
      "outputs": [
        {
          "output_type": "stream",
          "text": [
            "Comienzo\n",
            "Entre 1 y 5 hay al menos un múltiplo de 2.\n"
          ],
          "name": "stdout"
        }
      ]
    },
    {
      "cell_type": "code",
      "metadata": {
        "colab": {
          "base_uri": "https://localhost:8080/"
        },
        "id": "CEz60GbcQsQI",
        "outputId": "2ed94eee-bc92-478e-c7de-1d315ad39faa"
      },
      "source": [
        "#ACUMULADOR\n",
        "# variable que acumula el resultado de una operación. \n",
        "# Ejemplo de programa con acumulador, en este caso, la variable que hace de acumulador es la variable suma:\n",
        "\n",
        "print(\"Comienzo\")\n",
        "suma = 0\n",
        "for i in [1, 2, 3, 4]:  #vector, lista, range\n",
        "    suma = suma + i\n",
        "print(f\"La suma de los números de 1 a 4 es {suma}\")\n"
      ],
      "execution_count": 38,
      "outputs": [
        {
          "output_type": "stream",
          "text": [
            "Comienzo\n",
            "La suma de los números de 1 a 4 es 10\n"
          ],
          "name": "stdout"
        }
      ]
    },
    {
      "cell_type": "code",
      "metadata": {
        "colab": {
          "base_uri": "https://localhost:8080/"
        },
        "id": "LEbLvpuTTXxq",
        "outputId": "3221661b-15c5-4c49-e63e-259a21e04ed9"
      },
      "source": [
        "#CONTADOR\n",
        "# variable que lleva la cuenta del número de veces que se ha cumplido una condición. \n",
        "# Ejemplo de programa con contador, en este caso, la variable que hace de contador es la variable cuenta:\n",
        "\n",
        "print(\"Comienzo\")\n",
        "cuenta = 0\n",
        "for i in range(1, 6):\n",
        "    if i % 2 == 0:\n",
        "        cuenta = cuenta + 1\n",
        "print(f\"Desde 1 hasta 5 hay {cuenta} múltiplos de 2\")"
      ],
      "execution_count": 26,
      "outputs": [
        {
          "output_type": "stream",
          "text": [
            "Comienzo\n",
            "Desde 1 hasta 5 hay 2 múltiplos de 2\n"
          ],
          "name": "stdout"
        }
      ]
    },
    {
      "cell_type": "code",
      "metadata": {
        "colab": {
          "base_uri": "https://localhost:8080/"
        },
        "id": "_12QTCK5TrcG",
        "outputId": "5796826a-5bf7-4832-f0f4-e54264c6e8d0"
      },
      "source": [
        "# NESTED LOOP\n",
        "# Implica un bucle dentro de otro\n",
        "# El bucle \"interno\" se va a ejecutar una vez por cada iteración del bucle \"externo\"\n",
        "\n",
        "adj = [\"red\", \"big\", \"tasty\"]\n",
        "fruits = [\"apple\", \"banana\", \"cherry\"]\n",
        "\n",
        "for x in adj:\n",
        "  \t\tfor y in fruits:\n",
        "    \t\t\tprint(x, y)\n"
      ],
      "execution_count": 27,
      "outputs": [
        {
          "output_type": "stream",
          "text": [
            "red apple\n",
            "red banana\n",
            "red cherry\n",
            "big apple\n",
            "big banana\n",
            "big cherry\n",
            "tasty apple\n",
            "tasty banana\n",
            "tasty cherry\n"
          ],
          "name": "stdout"
        }
      ]
    },
    {
      "cell_type": "code",
      "metadata": {
        "colab": {
          "base_uri": "https://localhost:8080/"
        },
        "id": "CL2xZJpTU61H",
        "outputId": "a6c70e27-1851-4830-ce3e-4dfd73784077"
      },
      "source": [
        "#Iterar sobre dos listas del mismo tamaño en un solo bucle con la función zip()\n",
        "\n",
        "A = [\"a\", \"b\", \"c\"]\n",
        "B = [\"a\", \"d\", \"e\"]\n",
        "\n",
        "for a, b in zip(A, B):\n",
        "  print (a, b, a == b)"
      ],
      "execution_count": 29,
      "outputs": [
        {
          "output_type": "stream",
          "text": [
            "a a True\n",
            "b d False\n",
            "c e False\n"
          ],
          "name": "stdout"
        }
      ]
    },
    {
      "cell_type": "code",
      "metadata": {
        "id": "_h0cLFHRY1BX"
      },
      "source": [
        ""
      ],
      "execution_count": null,
      "outputs": []
    }
  ]
}