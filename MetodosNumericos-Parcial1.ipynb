{
  "nbformat": 4,
  "nbformat_minor": 0,
  "metadata": {
    "colab": {
      "name": "TP-parcial1-MN.ipynb",
      "provenance": [],
      "collapsed_sections": [
        "d-vJpY6bVRb8",
        "dyuj5NYRR4A2",
        "9ffOhYw4S6gb",
        "HDH6YhseTPCT",
        "BmIjJUw0_8_G",
        "kxoJBsnPgi-c",
        "jKFhbY40g67_",
        "8OlhQtP9gQeD",
        "9af0LYBgBgI4",
        "TjhQBdopgnsJ",
        "52hjPV9_hAkl",
        "4p0ufLJ7gUoZ",
        "9o869bFVBrVz",
        "Tnho5-IDgqg_",
        "7E5GbXIEhEmF",
        "C8T7l1u-gZVE"
      ],
      "authorship_tag": "ABX9TyOi3mmiUw1SLX9a/7BSJepK",
      "include_colab_link": true
    },
    "kernelspec": {
      "name": "python3",
      "display_name": "Python 3"
    },
    "language_info": {
      "name": "python"
    }
  },
  "cells": [
    {
      "cell_type": "markdown",
      "metadata": {
        "id": "view-in-github",
        "colab_type": "text"
      },
      "source": [
        "<a href=\"https://colab.research.google.com/github/sofiaarbasetti/CalculoNumericoIBM-1/blob/main/MetodosNumericos-Parcial1.ipynb\" target=\"_parent\"><img src=\"https://colab.research.google.com/assets/colab-badge.svg\" alt=\"Open In Colab\"/></a>"
      ]
    },
    {
      "cell_type": "markdown",
      "metadata": {
        "id": "13Dk8_gHUxup"
      },
      "source": [
        "# TP Parcial 1\n",
        "### Métodos Numéricos, IBM 2021\n",
        "### Arbasetti Sofía"
      ]
    },
    {
      "cell_type": "code",
      "metadata": {
        "id": "sKf1k1OvUU1a"
      },
      "source": [
        "import matplotlib.pyplot as plt\n",
        "import sympy as sp\n",
        "from sympy.plotting import plot\n",
        "import pandas as pd\n",
        "import math\n",
        "import numpy as np\n",
        "\n",
        "\n",
        "x = sp.symbols('x')"
      ],
      "execution_count": 2,
      "outputs": []
    },
    {
      "cell_type": "code",
      "metadata": {
        "id": "YsedQiv0ZjmI"
      },
      "source": [
        "# DEFINICIÓN DEL METODO BISECCION\n",
        "\n",
        "def MetodoBiseccion(funcion= 2*x**2 - 6*x, a=1, b=10, tol=0.00000001, Nmax=60):\n",
        "  valores_a = [0] # Van guardando los valores de de las variables en cada iteración\n",
        "  valores_b = [0]\n",
        "  valores_c = [0]\n",
        "  valores_fc = [0]\n",
        "  contador = 0\n",
        "  while (funcion.subs(x,a)*funcion.subs(x,b)< 0):\n",
        "    contador = contador + 1\n",
        "    if (contador>Nmax):\n",
        "        print('Se alcanzo la cantidad maxima de iteraciones')\n",
        "        break\n",
        "    c= (a+b)/2\n",
        "    valores_a.append(a)\n",
        "    valores_b.append(b)\n",
        "    valores_c.append(c)\n",
        "    valores_fc.append(funcion.subs(x,c))\n",
        "    datos = {\n",
        "        'a' : valores_a,\n",
        "        'b' : valores_b,\n",
        "        'c' : valores_c,\n",
        "        'fc': valores_fc\n",
        "        }\n",
        "    df = pd.DataFrame(datos)\n",
        "    df.head()\n",
        "    if (funcion.subs(x,a)*funcion.subs(x,c)== 0): # Se halla la raiz exacta, valor de c en el cual la función vale 0 \n",
        "      print (\"La raíz es: \", c)\n",
        "      print (\"Se halló la raíz en la iteración N°\", contador, 'con una tolerancia = ', tol)\n",
        "      print(df)\n",
        "      break\n",
        "    elif (abs(valores_c [contador-1]-valores_c [contador-2])<=tol):  # Teniendo en cuenta el error, se halla la raiz aproximada\n",
        "      print (\"La raíz es: \", c)\n",
        "      print (\"Se halló la raíz en la iteración N°\", contador, 'con una tolerancia = ', tol)\n",
        "      break\n",
        "    elif (funcion.subs(x,a)*funcion.subs(x,c)< 0):  # b toma el valor de c si hay un cambio de signo entre la evaluación en a y c (porque quiere decir que c se encuentra del lado derecho de la raíz)\n",
        "      b=c\n",
        "    else:\n",
        "      a=c # a toma el valor de c cuando NO hay un cambio de signo entre la evaluación en a y c (porque quiere decir que c se encuentra del mismo lado respecto de la raíz)\n",
        "  print (\"Salió del bucle\")\n",
        "  #Grafico de error\n",
        "  X = np.linspace(0,contador, len(valores_c))\n",
        "  plt.plot(X, valores_c, 'r', label='c')\n",
        "  plt.legend(loc='upper right')\n",
        "  plt.title('Grafico de Error')\n",
        "  plt.ylabel('Valores de c')\n",
        "  plt.xlabel('Iteraciones')\n",
        "  plt.grid(True)\n",
        "  plt.show()\n"
      ],
      "execution_count": 3,
      "outputs": []
    },
    {
      "cell_type": "code",
      "metadata": {
        "id": "dWN2k0KHZkwK"
      },
      "source": [
        "# DEFINICIÓN DEL METODO PUNTO FIJO\n",
        "def MetodoPuntoFijo (p0 = 1, tol = 0.01, Nmax = 100):\n",
        "  contadorN = 1\n",
        "  valores_p = [p0]\n",
        "  error = []\n",
        "  while contadorN <= Nmax:\n",
        "    p = funcion_g(p0)\n",
        "    c = abs(p-p0)\n",
        "    valores_p.append(p)\n",
        "    error.append(c)\n",
        "    \n",
        "    if abs(p-p0) < tol:\n",
        "        print('El valor de p es: {0:.5f}'.format(p))\n",
        "        print('Tolerancia:',tol,' Iteraciones: {}'.format(contadorN))\n",
        "        print('La función g evaluada en p es: ', funcion_g(p))\n",
        "        break\n",
        "    \n",
        "    else:\n",
        "        contadorN += 1\n",
        "        p0 = p\n",
        "        if contadorN == Nmax:\n",
        "            print('No se halló la raiz') \n",
        "\n",
        "  #Grafico error\n",
        "  lenght = len(error)\n",
        "  X = np.linspace(0, lenght, lenght)\n",
        "  plt.plot(X, error, 'r', label='c')\n",
        "  plt.legend(loc='upper right')\n",
        "  plt.title('Grafico de Error')\n",
        "  plt.ylabel('Valores de C=p-p0')\n",
        "  plt.xlabel('Iteraciones')\n",
        "  plt.grid(True)\n",
        "  plt.show()\n",
        "    "
      ],
      "execution_count": 91,
      "outputs": []
    },
    {
      "cell_type": "code",
      "metadata": {
        "id": "xXamutMZZk9d"
      },
      "source": [
        "# DEFINICIÓN DEL METODO NEWTON \n",
        "def MetodoNewton(funcion= x**3-4*x**2-10, p0=3, tol=0.00001, Nmax=10):\n",
        "  deriv= sp.diff(funcion)\n",
        "  i=0\n",
        "  valores_p = []\n",
        "  print('La tolerancia definida es ',tol)\n",
        "  while (i <= Nmax) :\n",
        "    p= p0-(funcion.subs(x,p0)/deriv.subs(x,p0))\n",
        "    valores_p.append(p)\n",
        "    if (abs(p-p0)<= tol):\n",
        "      print('Se halló el valor de p= ', round(p,15),' en la iteración N°', i)\n",
        "      break\n",
        "    else:\n",
        "      i = i+1\n",
        "      p0= p\n",
        "      if (i>Nmax):\n",
        "        print('Se alcanzo la cantidad maxima de iteraciones')\n",
        "   #Grafico de error\n",
        "  X = np.linspace(0,i, len(valores_p))\n",
        "  #Plot funciones\n",
        "  plt.plot(X, valores_p, 'r', label='p')\n",
        "  plt.legend(loc='upper right')\n",
        "  plt.title('Grafico de Error')\n",
        "  plt.ylabel('Valores de p')\n",
        "  plt.xlabel('Iteraciones')\n",
        "  plt.grid(True)\n",
        "  plt.show()"
      ],
      "execution_count": 4,
      "outputs": []
    },
    {
      "cell_type": "markdown",
      "metadata": {
        "id": "d-vJpY6bVRb8"
      },
      "source": [
        "# 1) f(x) = x**2 - 4\n"
      ]
    },
    {
      "cell_type": "code",
      "metadata": {
        "id": "FpdLswvAWBBY"
      },
      "source": [
        "f1 = x**2 - 4"
      ],
      "execution_count": 93,
      "outputs": []
    },
    {
      "cell_type": "code",
      "metadata": {
        "colab": {
          "base_uri": "https://localhost:8080/",
          "height": 312
        },
        "id": "Ar7UFvEaWcdw",
        "outputId": "e235a82f-7fbe-472d-ba4d-ee50abc95c68"
      },
      "source": [
        "# Gráficamente\n",
        "p1 = plot(f1, show=True)\n",
        "\n",
        "#Raíces reales (utilizadas para comprobar los resultados de los métodos)\n",
        "sp.roots(f1, multiple=True)"
      ],
      "execution_count": 5,
      "outputs": [
        {
          "output_type": "display_data",
          "data": {
            "image/png": "[encoded data removed]",
            "text/plain": [
              "<Figure size 432x288 with 1 Axes>"
            ]
          },
          "metadata": {
            "needs_background": "light"
          }
        },
        {
          "output_type": "execute_result",
          "data": {
            "text/plain": [
              "[-2, 2]"
            ]
          },
          "metadata": {},
          "execution_count": 5
        }
      ]
    },
    {
      "cell_type": "markdown",
      "metadata": {
        "id": "dyuj5NYRR4A2"
      },
      "source": [
        "### 1-a) Método Bisección"
      ]
    },
    {
      "cell_type": "code",
      "metadata": {
        "id": "GI-2U0y3XHoG"
      },
      "source": [
        "# Metodo Bisección- RAIZ 1\n",
        "  # Tol= 10e-2\n",
        "MetodoBiseccion(funcion= f1, a=0, b=5, tol=1e-2)\n",
        " # Tol= 10e-5\n",
        "MetodoBiseccion(funcion= f1, a=0, b=5, tol=1e-5)\n",
        "  # Tol= 10e-7\n",
        "MetodoBiseccion(funcion= f1, a=0, b=5, tol=1e-7)\n",
        "  # Tol= 10e-12\n",
        "MetodoBiseccion(funcion= f1, a=0, b=5, tol=1e-12)"
      ],
      "execution_count": null,
      "outputs": []
    },
    {
      "cell_type": "code",
      "metadata": {
        "colab": {
          "base_uri": "https://localhost:8080/"
        },
        "id": "h6vOoLPsSUD_",
        "outputId": "6770cbf8-fbd9-4a1f-b97a-c914e9d589eb"
      },
      "source": [
        "# Metodo Bisección- RAIZ 2\n",
        "  # Tol= 10e-2\n",
        "MetodoBiseccion(funcion= f1, a=-5, b=0, tol=1e-2)\n",
        "  # Tol= 10e-5\n",
        "MetodoBiseccion(funcion= f1, a=-5, b=0, tol=1e-5)\n",
        "  # Tol= 10e-7\n",
        "MetodoBiseccion(funcion= f1, a=-5, b=0, tol=1e-7)\n",
        "  # Tol= 10e-12\n",
        "MetodoBiseccion(funcion= f1, a=-5, b=0, tol=1e-12)"
      ],
      "execution_count": 7,
      "outputs": [
        {
          "output_type": "stream",
          "name": "stdout",
          "text": [
            "La raíz es:  -1.9970703125\n",
            "Se halló la raíz en la iteración N° 10\n",
            "Salió del bucle\n",
            "La raíz es:  -2.000002861022949\n",
            "Se halló la raíz en la iteración N° 20\n",
            "Salió del bucle\n",
            "La raíz es:  -1.9999999925494194\n",
            "Se halló la raíz en la iteración N° 27\n",
            "Salió del bucle\n",
            "La raíz es:  -2.0000000000001705\n",
            "Se halló la raíz en la iteración N° 44\n",
            "Salió del bucle\n"
          ]
        }
      ]
    },
    {
      "cell_type": "markdown",
      "metadata": {
        "id": "9ffOhYw4S6gb"
      },
      "source": [
        "### 1-b) Método Punto Fijo"
      ]
    },
    {
      "cell_type": "code",
      "metadata": {
        "id": "qKyx61GC3vZ0"
      },
      "source": [
        "def funcion_g(x):\n",
        "    return math.sqrt(4) #Al despejar no se tiene en cuenta que se debe dejar a x en módulo (+/-) al quitar el exponente 2 (par)--->obtengo el valor absoluto \n",
        "#Podría definirse g(x)= -math.sqrt(4) siendo también válido y obteniendo la raíz faltante."
      ],
      "execution_count": 85,
      "outputs": []
    },
    {
      "cell_type": "code",
      "metadata": {
        "id": "Tb-e3MYDXbbv",
        "colab": {
          "base_uri": "https://localhost:8080/",
          "height": 1000
        },
        "outputId": "eefdc3d8-415e-4ce9-fb75-34439e8d2070"
      },
      "source": [
        "# Método Punto Fijo- RAIZ 1\n",
        "  # Tol= 10e-2\n",
        "MetodoPuntoFijo(p0=1, tol=10e-2)\n",
        "  # Tol= 10e-5\n",
        "MetodoPuntoFijo(p0=1, tol=10e-5)\n",
        "  # Tol= 10e-7\n",
        "MetodoPuntoFijo(p0=1, tol=10e-7)\n",
        "  # Tol= 10e-12\n",
        "MetodoPuntoFijo(p0=1, tol=10e-12)"
      ],
      "execution_count": 88,
      "outputs": [
        {
          "output_type": "stream",
          "name": "stdout",
          "text": [
            "El valor de p es: 2.00000\n",
            "Tolerancia: 0.1  Iteraciones: 2\n",
            "La función g evaluada en p es:  2.0\n"
          ]
        },
        {
          "output_type": "display_data",
          "data": {
            "image/png": "[encoded data removed]",
            "text/plain": [
              "<Figure size 432x288 with 1 Axes>"
            ]
          },
          "metadata": {
            "needs_background": "light"
          }
        },
        {
          "output_type": "stream",
          "name": "stdout",
          "text": [
            "El valor de p es: 2.00000\n",
            "Tolerancia: 0.0001  Iteraciones: 2\n",
            "La función g evaluada en p es:  2.0\n"
          ]
        },
        {
          "output_type": "display_data",
          "data": {
            "image/png": "[encoded data removed]",
            "text/plain": [
              "<Figure size 432x288 with 1 Axes>"
            ]
          },
          "metadata": {
            "needs_background": "light"
          }
        },
        {
          "output_type": "stream",
          "name": "stdout",
          "text": [
            "El valor de p es: 2.00000\n",
            "Tolerancia: 1e-06  Iteraciones: 2\n",
            "La función g evaluada en p es:  2.0\n"
          ]
        },
        {
          "output_type": "display_data",
          "data": {
            "image/png": "[encoded data removed]",
            "text/plain": [
              "<Figure size 432x288 with 1 Axes>"
            ]
          },
          "metadata": {
            "needs_background": "light"
          }
        },
        {
          "output_type": "stream",
          "name": "stdout",
          "text": [
            "El valor de p es: 2.00000\n",
            "Tolerancia: 1e-11  Iteraciones: 2\n",
            "La función g evaluada en p es:  2.0\n"
          ]
        },
        {
          "output_type": "display_data",
          "data": {
            "image/png": "[encoded data removed]",
            "text/plain": [
              "<Figure size 432x288 with 1 Axes>"
            ]
          },
          "metadata": {
            "needs_background": "light"
          }
        }
      ]
    },
    {
      "cell_type": "code",
      "metadata": {
        "colab": {
          "base_uri": "https://localhost:8080/"
        },
        "id": "BClGpEwcTHtq",
        "outputId": "5d895afa-962c-4be3-eccd-135ef4d05f42"
      },
      "source": [
        "# Método Punto Fijo- RAIZ 2\n",
        "  # Tol= 10e-2\n",
        "MetodoPuntoFijo(p0=-3, tol=10e-2)\n",
        "  # Tol= 10e-5\n",
        "MetodoPuntoFijo(p0=-3, tol=10e-5)\n",
        "  # Tol= 10e-7\n",
        "MetodoPuntoFijo(p0=-3, tol=10e-7)\n",
        "  # Tol= 10e-12\n",
        "MetodoPuntoFijo(p0=-3, tol=10e-12)"
      ],
      "execution_count": 43,
      "outputs": [
        {
          "output_type": "stream",
          "name": "stdout",
          "text": [
            "El valor de p es: 2.00000\n",
            "Tolerancia: 0.1  Iteraciones: 2\n",
            "La función g evaluada en p es:  2.0\n",
            "El valor de p es: 2.00000\n",
            "Tolerancia: 0.0001  Iteraciones: 2\n",
            "La función g evaluada en p es:  2.0\n",
            "El valor de p es: 2.00000\n",
            "Tolerancia: 1e-06  Iteraciones: 2\n",
            "La función g evaluada en p es:  2.0\n",
            "El valor de p es: 2.00000\n",
            "Tolerancia: 1e-11  Iteraciones: 2\n",
            "La función g evaluada en p es:  2.0\n"
          ]
        }
      ]
    },
    {
      "cell_type": "markdown",
      "metadata": {
        "id": "HDH6YhseTPCT"
      },
      "source": [
        "### 1-c) Método Newton"
      ]
    },
    {
      "cell_type": "code",
      "metadata": {
        "id": "IgvXSLytXe9Y"
      },
      "source": [
        "# Método Newton- RAIZ 1\n",
        "  # Tol= 10e-2\n",
        "MetodoNewton(funcion=f1,p0=1, tol=10e-2)\n",
        "  # Tol= 10e-5\n",
        "MetodoNewton(funcion=f1,p0=1, tol=10e-5)\n",
        "  # Tol= 10e-7\n",
        "MetodoNewton(funcion=f1,p0=1, tol=10e-7)\n",
        "  # Tol= 10e-12\n",
        "MetodoNewton(funcion=f1,p0=1, tol=10e-12)"
      ],
      "execution_count": null,
      "outputs": []
    },
    {
      "cell_type": "code",
      "metadata": {
        "id": "vN38yu0GTY8f"
      },
      "source": [
        "# Método Newton- RAIZ 2\n",
        "  # Tol= 10e-2\n",
        "MetodoNewton(funcion=f1,p0=-3, tol=10e-2)\n",
        "  # Tol= 10e-5\n",
        "MetodoNewton(funcion=f1,p0=-3, tol=10e-5)\n",
        "  # Tol= 10e-7\n",
        "MetodoNewton(funcion=f1,p0=-3, tol=10e-7)\n",
        "  # Tol= 10e-12\n",
        "MetodoNewton(funcion=f1,p0=-3, tol=10e-12)"
      ],
      "execution_count": null,
      "outputs": []
    },
    {
      "cell_type": "markdown",
      "metadata": {
        "id": "EKv_PnSZODJ0"
      },
      "source": [
        "Ya que la función g(x) en este caso es una constante, no hay error a la hora de iterar, cualquier valor que se pase por parámetro va a devolver dicha constante porque no va a influir en la función g."
      ]
    },
    {
      "cell_type": "markdown",
      "metadata": {
        "id": "BmIjJUw0_8_G"
      },
      "source": [
        "# 2) f(x) = -0.5*xe2 + 2.5* x + 4.5"
      ]
    },
    {
      "cell_type": "code",
      "metadata": {
        "id": "vCeUiADTAiBQ"
      },
      "source": [
        "f2 = -0.5* x**2 + 2.5* x + 4.5"
      ],
      "execution_count": 96,
      "outputs": []
    },
    {
      "cell_type": "code",
      "metadata": {
        "colab": {
          "base_uri": "https://localhost:8080/",
          "height": 314
        },
        "id": "QNiSNFEkCk5t",
        "outputId": "ab91edf0-7daf-4d92-eb63-c440cae3d910"
      },
      "source": [
        "# Gráficamente\n",
        "p2 = plot(f2, show=True)\n",
        "\n",
        "#Raíces reales\n",
        "sp.roots(f2, multiple=True)"
      ],
      "execution_count": 11,
      "outputs": [
        {
          "output_type": "display_data",
          "data": {
            "image/png": "[encoded data removed]",
            "text/plain": [
              "<Figure size 432x288 with 1 Axes>"
            ]
          },
          "metadata": {
            "needs_background": "light"
          }
        },
        {
          "output_type": "execute_result",
          "data": {
            "text/plain": [
              "[-1.40512483795333, 6.40512483795333]"
            ]
          },
          "metadata": {},
          "execution_count": 11
        }
      ]
    },
    {
      "cell_type": "markdown",
      "metadata": {
        "id": "kxoJBsnPgi-c"
      },
      "source": [
        "### 2-a) Método Bisección"
      ]
    },
    {
      "cell_type": "code",
      "metadata": {
        "id": "RLh71qA6DjRJ",
        "colab": {
          "base_uri": "https://localhost:8080/"
        },
        "outputId": "09ea13f3-4be0-4042-b686-a0d7aef72147"
      },
      "source": [
        "# Metodo Bisección- RAIZ 1\n",
        "  # Tol= 10e-2\n",
        "MetodoBiseccion(funcion= f2, a=-2.5, b=0, tol=1e-2)\n",
        "  # Tol= 10e-2\n",
        "MetodoBiseccion(funcion= f2, a=-2.5, b=0, tol=1e-5)\n",
        "  # Tol= 10e-2\n",
        "MetodoBiseccion(funcion= f2, a=-2.5, b=0, tol=1e-7)\n",
        "  # Tol= 10e-2\n",
        "MetodoBiseccion(funcion= f2, a=-2.5, b=0, tol=1e-12)"
      ],
      "execution_count": 12,
      "outputs": [
        {
          "output_type": "stream",
          "name": "stdout",
          "text": [
            "La raíz es:  -1.4013671875\n",
            "Se halló la raíz en la iteración N° 9\n",
            "Salió del bucle\n",
            "La raíz es:  -1.4051294326782227\n",
            "Se halló la raíz en la iteración N° 19\n",
            "Salió del bucle\n",
            "La raíz es:  -1.4051248505711555\n",
            "Se halló la raíz en la iteración N° 26\n",
            "Salió del bucle\n",
            "La raíz es:  -1.4051248379533376\n",
            "Se halló la raíz en la iteración N° 43\n",
            "Salió del bucle\n"
          ]
        }
      ]
    },
    {
      "cell_type": "code",
      "metadata": {
        "colab": {
          "base_uri": "https://localhost:8080/"
        },
        "id": "77evs36fedIT",
        "outputId": "31e8db77-bb85-4ae8-ae59-31d09b6cf7d2"
      },
      "source": [
        "# Metodo Bisección- RAIZ 2\n",
        "  # Tol= 10e-2\n",
        "MetodoBiseccion(funcion= f2, a=5, b=8, tol=1e-2)\n",
        "  # Tol= 10e-2\n",
        "MetodoBiseccion(funcion= f2, a=5, b=8, tol=1e-5)\n",
        "  # Tol= 10e-2\n",
        "MetodoBiseccion(funcion= f2, a=5, b=8, tol=1e-7)\n",
        "  # Tol= 10e-2\n",
        "MetodoBiseccion(funcion= f2, a=5, b=8, tol=1e-12)"
      ],
      "execution_count": 13,
      "outputs": [
        {
          "output_type": "stream",
          "name": "stdout",
          "text": [
            "La raíz es:  6.4033203125\n",
            "Se halló la raíz en la iteración N° 10\n",
            "Salió del bucle\n",
            "La raíz es:  6.405125617980957\n",
            "Se halló la raíz en la iteración N° 20\n",
            "Salió del bucle\n",
            "La raíz es:  6.405124858021736\n",
            "Se halló la raíz en la iteración N° 26\n",
            "Salió del bucle\n",
            "La raíz es:  6.4051248379533945\n",
            "Se halló la raíz en la iteración N° 43\n",
            "Salió del bucle\n"
          ]
        }
      ]
    },
    {
      "cell_type": "markdown",
      "metadata": {
        "id": "jKFhbY40g67_"
      },
      "source": [
        "### 2-b) Metodo Punto Fijo"
      ]
    },
    {
      "cell_type": "code",
      "metadata": {
        "id": "e8fnngZ1DmJz"
      },
      "source": [
        "def funcion_g(x):\n",
        "    return -4.5/(-0.5*x+2.5)"
      ],
      "execution_count": 89,
      "outputs": []
    },
    {
      "cell_type": "code",
      "metadata": {
        "id": "ysy2q3zP71O-"
      },
      "source": [
        "# Método Punto Fijo- RAIZ 1\n",
        "  # Tol= 10e-2\n",
        "MetodoPuntoFijo(p0=-2.5, tol=10e-2)\n",
        "  # Tol= 10e-5\n",
        "MetodoPuntoFijo(p0=-2.5, tol=10e-5)\n",
        "  # Tol= 10e-7\n",
        "MetodoPuntoFijo(p0=-2.5, tol=10e-7)\n",
        "  # Tol= 10e-12\n",
        "MetodoPuntoFijo(p0=-2.5, tol=10e-12)"
      ],
      "execution_count": null,
      "outputs": []
    },
    {
      "cell_type": "code",
      "metadata": {
        "colab": {
          "base_uri": "https://localhost:8080/"
        },
        "id": "wAGSAKZF8XS0",
        "outputId": "b2956c59-e7a5-4cd1-bc54-07053b42abe6"
      },
      "source": [
        "# Método Punto Fijo- RAIZ 2\n",
        "#El método no logra identificar la segunda raiz, sino que vuelve a devolver la anterior independientemente del p0 que se pase por parámetro\n",
        "  # Tol= 10e-2\n",
        "MetodoPuntoFijo(p0=6, tol=10e-2)\n",
        "  # Tol= 10e-5\n",
        "MetodoPuntoFijo(p0=6, tol=10e-5)\n",
        "  # Tol= 10e-7\n",
        "MetodoPuntoFijo(p0=6, tol=10e-7)\n",
        "  # Tol= 10e-12\n",
        "MetodoPuntoFijo(p0=6, tol=10e-12)"
      ],
      "execution_count": 49,
      "outputs": [
        {
          "output_type": "stream",
          "name": "stdout",
          "text": [
            "El valor de p es: -1.38924\n",
            "Tolerancia: 0.1  Iteraciones: 7\n",
            "La función g evaluada en p es:  -1.408617155815272\n",
            "El valor de p es: -1.40513\n",
            "Tolerancia: 0.0001  Iteraciones: 11\n",
            "La función g evaluada en p es:  -1.405123064351705\n",
            "El valor de p es: -1.40512\n",
            "Tolerancia: 1e-06  Iteraciones: 14\n",
            "La función g evaluada en p es:  -1.4051248566781671\n",
            "El valor de p es: -1.40512\n",
            "Tolerancia: 1e-11  Iteraciones: 22\n",
            "La función g evaluada en p es:  -1.4051248379534276\n"
          ]
        }
      ]
    },
    {
      "cell_type": "markdown",
      "metadata": {
        "id": "8OlhQtP9gQeD"
      },
      "source": [
        "### 2-c) Método Newton"
      ]
    },
    {
      "cell_type": "code",
      "metadata": {
        "id": "1H2qZP-QfXDr"
      },
      "source": [
        "# Método Newton- RAIZ 1\n",
        "  # Tol= 10e-2\n",
        "MetodoNewton(funcion=f2, p0=-2.5, tol=10e-2)\n",
        "  # Tol= 10e-5\n",
        "MetodoNewton(funcion=f2, p0=-2.5, tol=10e-5)\n",
        "  # Tol= 10e-7\n",
        "MetodoNewton(funcion=f2, p0=-2.5, tol=10e-7)\n",
        "  # Tol= 10e-12\n",
        "MetodoNewton(funcion=f2, p0=-2.5, tol=10e-12)"
      ],
      "execution_count": null,
      "outputs": []
    },
    {
      "cell_type": "code",
      "metadata": {
        "id": "lwXP6WFmfZyp"
      },
      "source": [
        "# Método Newton- RAIZ 2\n",
        "  # Tol= 10e-2\n",
        "MetodoNewton(funcion=f2,p0=5, tol=10e-2)\n",
        "  # Tol= 10e-5\n",
        "MetodoNewton(funcion=f2,p0=5, tol=10e-5)\n",
        "  # Tol= 10e-7\n",
        "MetodoNewton(funcion=f2,p0=5, tol=10e-7)\n",
        "  # Tol= 10e-12\n",
        "MetodoNewton(funcion=f2,p0=5, tol=10e-12)"
      ],
      "execution_count": null,
      "outputs": []
    },
    {
      "cell_type": "markdown",
      "metadata": {
        "id": "9af0LYBgBgI4"
      },
      "source": [
        "# 3) f(x) = xe3 -13*x-12 "
      ]
    },
    {
      "cell_type": "code",
      "metadata": {
        "id": "N2eM-al_Arnj"
      },
      "source": [
        "f3 = x**3 -13*x-12 "
      ],
      "execution_count": 19,
      "outputs": []
    },
    {
      "cell_type": "code",
      "metadata": {
        "colab": {
          "base_uri": "https://localhost:8080/",
          "height": 314
        },
        "id": "knYZznNRC2Rr",
        "outputId": "7642d65a-69c9-4f2f-99c7-2e2b2428f814"
      },
      "source": [
        "# Gráficamente\n",
        "p3 = plot(f3, show=True)\n",
        "\n",
        "#Raíces reales\n",
        "sp.roots(f3, multiple=True)"
      ],
      "execution_count": 20,
      "outputs": [
        {
          "output_type": "display_data",
          "data": {
            "image/png": "[encoded data removed]",
            "text/plain": [
              "<Figure size 432x288 with 1 Axes>"
            ]
          },
          "metadata": {
            "needs_background": "light"
          }
        },
        {
          "output_type": "execute_result",
          "data": {
            "text/plain": [
              "[-3, -1, 4]"
            ]
          },
          "metadata": {},
          "execution_count": 20
        }
      ]
    },
    {
      "cell_type": "markdown",
      "metadata": {
        "id": "TjhQBdopgnsJ"
      },
      "source": [
        "### 3-a) Método Bisección"
      ]
    },
    {
      "cell_type": "code",
      "metadata": {
        "colab": {
          "base_uri": "https://localhost:8080/"
        },
        "id": "ZQvRgKugiCPw",
        "outputId": "37ffa97a-97e6-4c5b-ae8f-2d0186f01af6"
      },
      "source": [
        "# Metodo Bisección- RAIZ 1\n",
        "  # Tol= 10e-2\n",
        "MetodoBiseccion(funcion= f3, a=-5, b=-2.5, tol=1e-2)\n",
        "  # Tol= 10e-2\n",
        "MetodoBiseccion(funcion= f3, a=-5, b=-2.5, tol=1e-5)\n",
        "  # Tol= 10e-2\n",
        "MetodoBiseccion(funcion= f3, a=-5, b=-2.5, tol=1e-7)\n",
        "  # Tol= 10e-2\n",
        "MetodoBiseccion(funcion= f3, a=-5, b=-2.5, tol=1e-12)"
      ],
      "execution_count": 21,
      "outputs": [
        {
          "output_type": "stream",
          "name": "stdout",
          "text": [
            "La raíz es:  -3.0029296875\n",
            "Se halló la raíz en la iteración N° 9\n",
            "Salió del bucle\n",
            "La raíz es:  -2.999997138977051\n",
            "Se halló la raíz en la iteración N° 19\n",
            "Salió del bucle\n",
            "La raíz es:  -3.0000000074505806\n",
            "Se halló la raíz en la iteración N° 26\n",
            "Salió del bucle\n",
            "La raíz es:  -2.9999999999998295\n",
            "Se halló la raíz en la iteración N° 43\n",
            "Salió del bucle\n"
          ]
        }
      ]
    },
    {
      "cell_type": "code",
      "metadata": {
        "colab": {
          "base_uri": "https://localhost:8080/"
        },
        "id": "_6UBn4A_iDjg",
        "outputId": "d7d3d028-4fef-49e2-b317-e282892eff4c"
      },
      "source": [
        "# Metodo Bisección- RAIZ 2\n",
        "  # Tol= 10e-2\n",
        "MetodoBiseccion(funcion= f3, a=-2.5, b=0, tol=1e-2)\n",
        "  # Tol= 10e-2\n",
        "MetodoBiseccion(funcion= f3, a=-2.5, b=0, tol=1e-5)\n",
        "  # Tol= 10e-2\n",
        "MetodoBiseccion(funcion= f3, a=-2.5, b=0, tol=1e-7)\n",
        "  # Tol= 10e-2\n",
        "MetodoBiseccion(funcion= f3, a=-2.5, b=0, tol=1e-12)"
      ],
      "execution_count": 22,
      "outputs": [
        {
          "output_type": "stream",
          "name": "stdout",
          "text": [
            "La raíz es:  -1.0009765625\n",
            "Se halló la raíz en la iteración N° 9\n",
            "Salió del bucle\n",
            "La raíz es:  -0.9999990463256836\n",
            "Se halló la raíz en la iteración N° 19\n",
            "Salió del bucle\n",
            "La raíz es:  -0.9999999776482582\n",
            "Se halló la raíz en la iteración N° 26\n",
            "Salió del bucle\n",
            "La raíz es:  -0.9999999999999432\n",
            "Se halló la raíz en la iteración N° 43\n",
            "Salió del bucle\n"
          ]
        }
      ]
    },
    {
      "cell_type": "code",
      "metadata": {
        "colab": {
          "base_uri": "https://localhost:8080/"
        },
        "id": "TOAQCkSwiLXm",
        "outputId": "83abd0aa-6a26-4540-d50e-c97f3dd323a9"
      },
      "source": [
        "# Metodo Bisección- RAIZ 3\n",
        "  # Tol= 10e-2\n",
        "MetodoBiseccion(funcion= f3, a=2.5, b=5, tol=1e-2)\n",
        "  # Tol= 10e-2\n",
        "MetodoBiseccion(funcion= f3, a=2.5, b=5, tol=1e-5)\n",
        "  # Tol= 10e-2\n",
        "MetodoBiseccion(funcion= f3, a=2.5, b=5, tol=1e-7)\n",
        "  # Tol= 10e-2\n",
        "MetodoBiseccion(funcion= f3, a=2.5, b=5, tol=1e-12)"
      ],
      "execution_count": 23,
      "outputs": [
        {
          "output_type": "stream",
          "name": "stdout",
          "text": [
            "La raíz es:  3.9990234375\n",
            "Se halló la raíz en la iteración N° 9\n",
            "Salió del bucle\n",
            "La raíz es:  4.000000953674316\n",
            "Se halló la raíz en la iteración N° 19\n",
            "Salió del bucle\n",
            "La raíz es:  4.000000022351742\n",
            "Se halló la raíz en la iteración N° 26\n",
            "Salió del bucle\n",
            "La raíz es:  4.000000000000057\n",
            "Se halló la raíz en la iteración N° 43\n",
            "Salió del bucle\n"
          ]
        }
      ]
    },
    {
      "cell_type": "markdown",
      "metadata": {
        "id": "52hjPV9_hAkl"
      },
      "source": [
        "### 3-b) Metodo Punto Fijo"
      ]
    },
    {
      "cell_type": "code",
      "metadata": {
        "id": "tWrs-aB3Dv7n"
      },
      "source": [
        "def funcion_g(x):\n",
        "    return 12/(x**2-13)"
      ],
      "execution_count": 54,
      "outputs": []
    },
    {
      "cell_type": "markdown",
      "metadata": {
        "id": "3sXpEfEBJBFy"
      },
      "source": [
        "El método logra identificar solo 1 raiz (x=-1), solo reconoce las otras 2 raices si se pasan exactas como parámetro p0"
      ]
    },
    {
      "cell_type": "code",
      "metadata": {
        "colab": {
          "base_uri": "https://localhost:8080/"
        },
        "id": "yzrNKEEYF46q",
        "outputId": "efe8bd83-c074-41e4-cc34-5dd9d03ee621"
      },
      "source": [
        "# Método Punto Fijo- RAIZ 1\n",
        "  # Tol= 10e-2\n",
        "MetodoPuntoFijo(p0=-5, tol=10e-2)\n",
        "  # Tol= 10e-5\n",
        "MetodoPuntoFijo(p0=-5, tol=10e-5)\n",
        "  # Tol= 10e-7\n",
        "MetodoPuntoFijo(p0=-5, tol=10e-7)\n",
        "  # Tol= 10e-12\n",
        "MetodoPuntoFijo(p0=-5, tol=10e-12)"
      ],
      "execution_count": 60,
      "outputs": [
        {
          "output_type": "stream",
          "name": "stdout",
          "text": [
            "El valor de p es: -0.99083\n",
            "Tolerancia: 0.1  Iteraciones: 3\n",
            "La función g evaluada en p es:  -0.9984805267792243\n",
            "El valor de p es: -1.00000\n",
            "Tolerancia: 0.0001  Iteraciones: 3\n",
            "La función g evaluada en p es:  -1.0\n",
            "El valor de p es: -1.00000\n",
            "Tolerancia: 1e-06  Iteraciones: 3\n",
            "La función g evaluada en p es:  -1.0\n",
            "El valor de p es: -1.00000\n",
            "Tolerancia: 1e-11  Iteraciones: 3\n",
            "La función g evaluada en p es:  -1.0\n"
          ]
        }
      ]
    },
    {
      "cell_type": "code",
      "metadata": {
        "colab": {
          "base_uri": "https://localhost:8080/"
        },
        "id": "53WWoqC-GNto",
        "outputId": "040b9a7a-bc6f-4764-d027-a870e5a8ae82"
      },
      "source": [
        "# Método Punto Fijo- RAIZ 2\n",
        "#El método no logra identificar la segunda raiz, sino que vuelve a devolver la anterior independientemente del p0 que se pase por parámetro\n",
        "  # Tol= 10e-2\n",
        "MetodoPuntoFijo(p0=-3, tol=10e-2)\n",
        "  # Tol= 10e-5\n",
        "MetodoPuntoFijo(p0=-2, tol=10e-5)\n",
        "  # Tol= 10e-7\n",
        "MetodoPuntoFijo(p0=-2, tol=10e-7)\n",
        "  # Tol= 10e-12\n",
        "MetodoPuntoFijo(p0=-2, tol=10e-12)"
      ],
      "execution_count": 68,
      "outputs": [
        {
          "output_type": "stream",
          "name": "stdout",
          "text": [
            "El valor de p es: -3.00000\n",
            "Tolerancia: 0.1  Iteraciones: 1\n",
            "La función g evaluada en p es:  -3.0\n",
            "El valor de p es: -1.00001\n",
            "Tolerancia: 0.0001  Iteraciones: 7\n",
            "La función g evaluada en p es:  -1.000001570695104\n",
            "El valor de p es: -1.00000\n",
            "Tolerancia: 1e-06  Iteraciones: 10\n",
            "La función g evaluada en p es:  -1.0000000072717457\n",
            "El valor de p es: -1.00000\n",
            "Tolerancia: 1e-11  Iteraciones: 16\n",
            "La función g evaluada en p es:  -1.0000000000001559\n"
          ]
        }
      ]
    },
    {
      "cell_type": "code",
      "metadata": {
        "colab": {
          "base_uri": "https://localhost:8080/"
        },
        "id": "STuT79U3GPMj",
        "outputId": "f4f5e6b9-ab45-4747-fca5-0fc1d68a0212"
      },
      "source": [
        "# Método Punto Fijo- RAIZ 3\n",
        "#El método no logra identificar la segunda raiz, sino que vuelve a devolver la anterior independientemente del p0 que se pase por parámetro\n",
        "  # Tol= 10e-2\n",
        "MetodoPuntoFijo(p0=4, tol=10e-2)\n",
        "  # Tol= 10e-5\n",
        "MetodoPuntoFijo(p0=2.5, tol=10e-5)\n",
        "  # Tol= 10e-7\n",
        "MetodoPuntoFijo(p0=2.5, tol=10e-7)\n",
        "  # Tol= 10e-12\n",
        "MetodoPuntoFijo(p0=2.5, tol=10e-12)"
      ],
      "execution_count": 67,
      "outputs": [
        {
          "output_type": "stream",
          "name": "stdout",
          "text": [
            "El valor de p es: 4.00000\n",
            "Tolerancia: 0.1  Iteraciones: 1\n",
            "La función g evaluada en p es:  4.0\n",
            "El valor de p es: -1.00001\n",
            "Tolerancia: 0.0001  Iteraciones: 8\n",
            "La función g evaluada en p es:  -1.000000938698319\n",
            "El valor de p es: -1.00000\n",
            "Tolerancia: 1e-06  Iteraciones: 10\n",
            "La función g evaluada en p es:  -1.0000000260749724\n",
            "El valor de p es: -1.00000\n",
            "Tolerancia: 1e-11  Iteraciones: 17\n",
            "La función g evaluada en p es:  -1.000000000000093\n"
          ]
        }
      ]
    },
    {
      "cell_type": "markdown",
      "metadata": {
        "id": "4p0ufLJ7gUoZ"
      },
      "source": [
        "### 3-c) Método Newton"
      ]
    },
    {
      "cell_type": "code",
      "metadata": {
        "id": "yjTQWCbqjpJ6"
      },
      "source": [
        "# Método Newton- RAIZ 1\n",
        "  # Tol= 10e-2\n",
        "MetodoNewton(funcion=f3, p0=-5, tol=10e-2)\n",
        "  # Tol= 10e-5\n",
        "MetodoNewton(funcion=f3, p0=-5, tol=10e-5)\n",
        "  # Tol= 10e-7\n",
        "MetodoNewton(funcion=f3, p0=-5, tol=10e-7)\n",
        "  # Tol= 10e-12\n",
        "MetodoNewton(funcion=f3, p0=-5, tol=10e-12)"
      ],
      "execution_count": null,
      "outputs": []
    },
    {
      "cell_type": "code",
      "metadata": {
        "id": "0iVA542zjpwI"
      },
      "source": [
        "# Método Newton- RAIZ 2\n",
        "  # Tol= 10e-2\n",
        "MetodoNewton(funcion=f3, p0=-1.5, tol=10e-2)\n",
        "  # Tol= 10e-5\n",
        "MetodoNewton(funcion=f3, p0=-1.5, tol=10e-5)\n",
        "  # Tol= 10e-7\n",
        "MetodoNewton(funcion=f3, p0=-1.5, tol=10e-7)\n",
        "  # Tol= 10e-12\n",
        "MetodoNewton(funcion=f3, p0=-1.5, tol=10e-12)"
      ],
      "execution_count": null,
      "outputs": []
    },
    {
      "cell_type": "code",
      "metadata": {
        "id": "2wfaslecjqgE"
      },
      "source": [
        "# Método Newton- RAIZ 3\n",
        "  # Tol= 10e-2\n",
        "MetodoNewton(funcion=f3, p0=2.5, tol=10e-2)\n",
        "  # Tol= 10e-5\n",
        "MetodoNewton(funcion=f3, p0=2.5, tol=10e-5)\n",
        "  # Tol= 10e-7\n",
        "MetodoNewton(funcion=f3, p0=2.5, tol=10e-7)\n",
        "  # Tol= 10e-12\n",
        "MetodoNewton(funcion=f3, p0=2.5, tol=10e-12)"
      ],
      "execution_count": null,
      "outputs": []
    },
    {
      "cell_type": "markdown",
      "metadata": {
        "id": "9o869bFVBrVz"
      },
      "source": [
        "# 4) f(x) = -25 + 82*x +90*xe2 + 44*xe3 -8*xe4"
      ]
    },
    {
      "cell_type": "code",
      "metadata": {
        "id": "MpE1NB1zA8sT"
      },
      "source": [
        "f4 = -25 + 82*x +90* x**2 +44* x**3 -8*x**4"
      ],
      "execution_count": 6,
      "outputs": []
    },
    {
      "cell_type": "code",
      "metadata": {
        "colab": {
          "base_uri": "https://localhost:8080/",
          "height": 387
        },
        "id": "gPJZcvmdCKWX",
        "outputId": "4e5441ef-f4c4-48fd-8dd6-e5ec3818abc8"
      },
      "source": [
        "# Gráficamente\n",
        "p4 = plot(f4, show=True)\n",
        "\n",
        "#Raíces reales\n",
        "sp.roots(f4, multiple=True)"
      ],
      "execution_count": 7,
      "outputs": [
        {
          "output_type": "display_data",
          "data": {
            "image/png": "[encoded data removed]",
            "text/plain": [
              "<Figure size 432x288 with 1 Axes>"
            ]
          },
          "metadata": {
            "needs_background": "light"
          }
        },
        {
          "output_type": "execute_result",
          "data": {
            "text/plain": [
              "[11/8 + sqrt(-9/(32*(12777/512 + 3*sqrt(18139162)/512)**(1/3)) + 2*(12777/512 + 3*sqrt(18139162)/512)**(1/3) + 241/16)/2 + sqrt(-2*(12777/512 + 3*sqrt(18139162)/512)**(1/3) + 9/(32*(12777/512 + 3*sqrt(18139162)/512)**(1/3)) + 3967/(32*sqrt(-9/(32*(12777/512 + 3*sqrt(18139162)/512)**(1/3)) + 2*(12777/512 + 3*sqrt(18139162)/512)**(1/3) + 241/16)) + 241/8)/2,\n",
              " -sqrt(-9/(32*(12777/512 + 3*sqrt(18139162)/512)**(1/3)) + 2*(12777/512 + 3*sqrt(18139162)/512)**(1/3) + 241/16)/2 + 11/8 - sqrt(-3967/(32*sqrt(-9/(32*(12777/512 + 3*sqrt(18139162)/512)**(1/3)) + 2*(12777/512 + 3*sqrt(18139162)/512)**(1/3) + 241/16)) - 2*(12777/512 + 3*sqrt(18139162)/512)**(1/3) + 9/(32*(12777/512 + 3*sqrt(18139162)/512)**(1/3)) + 241/8)/2,\n",
              " -sqrt(-9/(32*(12777/512 + 3*sqrt(18139162)/512)**(1/3)) + 2*(12777/512 + 3*sqrt(18139162)/512)**(1/3) + 241/16)/2 + 11/8 + sqrt(-3967/(32*sqrt(-9/(32*(12777/512 + 3*sqrt(18139162)/512)**(1/3)) + 2*(12777/512 + 3*sqrt(18139162)/512)**(1/3) + 241/16)) - 2*(12777/512 + 3*sqrt(18139162)/512)**(1/3) + 9/(32*(12777/512 + 3*sqrt(18139162)/512)**(1/3)) + 241/8)/2,\n",
              " -sqrt(-2*(12777/512 + 3*sqrt(18139162)/512)**(1/3) + 9/(32*(12777/512 + 3*sqrt(18139162)/512)**(1/3)) + 3967/(32*sqrt(-9/(32*(12777/512 + 3*sqrt(18139162)/512)**(1/3)) + 2*(12777/512 + 3*sqrt(18139162)/512)**(1/3) + 241/16)) + 241/8)/2 + 11/8 + sqrt(-9/(32*(12777/512 + 3*sqrt(18139162)/512)**(1/3)) + 2*(12777/512 + 3*sqrt(18139162)/512)**(1/3) + 241/16)/2]"
            ]
          },
          "metadata": {},
          "execution_count": 7
        }
      ]
    },
    {
      "cell_type": "code",
      "metadata": {
        "colab": {
          "base_uri": "https://localhost:8080/"
        },
        "id": "tUwyuQK6k5KS",
        "outputId": "422dc61a-b68c-4c6e-9a12-2f10c42154b2"
      },
      "source": [
        "raiz_real1= 11/8 + math.sqrt(-9/(32*(12777/512 + 3*math.sqrt(18139162)/512)**(1/3)) + 2*(12777/512 + 3*math.sqrt(18139162)/512)**(1/3) + 241/16)/2 + math.sqrt(-2*(12777/512 + 3*math.sqrt(18139162)/512)**(1/3) + 9/(32*(12777/512 + 3*math.sqrt(18139162)/512)**(1/3)) + 3967/(32*math.sqrt(-9/(32*(12777/512 + 3*math.sqrt(18139162)/512)**(1/3)) + 2*(12777/512 + 3*math.sqrt(18139162)/512)**(1/3) + 241/16)) + 241/8)/2\n",
        "print('RAIZ_1 = ', raiz_real1)\n"
      ],
      "execution_count": 2,
      "outputs": [
        {
          "output_type": "stream",
          "name": "stdout",
          "text": [
            "RAIZ_1 =  7.240931057827883\n"
          ]
        }
      ]
    },
    {
      "cell_type": "code",
      "metadata": {
        "id": "7Gw6p5aXbpza"
      },
      "source": [
        "# Utilizando la herramienta symbolab obtuve las raíces para comprobar los resultados obtenidos con los métodos: x1=0,23662 ; x2=7,24093\n",
        "# https://es.symbolab.com/solver/roots-calculator/ra%C3%ADces%20-25%20%2B%2082%5Ccdot%20x%20%2B90%5Ccdot%20x%5E%7B2%7D%2B44%5Ccdot%20x%5E%7B3%7D%20-8%5Ccdot%20x%5E%7B4%7D?or=input"
      ],
      "execution_count": null,
      "outputs": []
    },
    {
      "cell_type": "markdown",
      "metadata": {
        "id": "Tnho5-IDgqg_"
      },
      "source": [
        "### 4-a) Método Bisección"
      ]
    },
    {
      "cell_type": "code",
      "metadata": {
        "id": "p5MKFYNxD3aJ",
        "colab": {
          "base_uri": "https://localhost:8080/",
          "height": 1000
        },
        "outputId": "990c9b54-cc4f-4fb9-dcd6-58ac1461227e"
      },
      "source": [
        "# Método Bisección- RAIZ 1\n",
        " # Tol= 10e-2\n",
        "MetodoBiseccion(funcion= f4, a=0, b=2, tol=1e-2)\n",
        "  # Tol= 10e-2\n",
        "MetodoBiseccion(funcion= f4, a=0, b=2, tol=1e-5)\n",
        "  # Tol= 10e-2\n",
        "MetodoBiseccion(funcion= f4, a=0, b=2, tol=1e-7)\n",
        "  # Tol= 10e-2\n",
        "MetodoBiseccion(funcion= f4, a=0, b=2, tol=1e-12)"
      ],
      "execution_count": 8,
      "outputs": [
        {
          "output_type": "stream",
          "name": "stdout",
          "text": [
            "La raíz es:  0.23828125\n",
            "Se halló la raíz en la iteración N° 9 con una tolerancia =  0.01\n",
            "Salió del bucle\n"
          ]
        },
        {
          "output_type": "display_data",
          "data": {
            "image/png": "[encoded data removed]",
            "text/plain": [
              "<Figure size 432x288 with 1 Axes>"
            ]
          },
          "metadata": {
            "needs_background": "light"
          }
        },
        {
          "output_type": "stream",
          "name": "stdout",
          "text": [
            "La raíz es:  0.23662185668945312\n",
            "Se halló la raíz en la iteración N° 19 con una tolerancia =  1e-05\n",
            "Salió del bucle\n"
          ]
        },
        {
          "output_type": "display_data",
          "data": {
            "image/png": "[encoded data removed]",
            "text/plain": [
              "<Figure size 432x288 with 1 Axes>"
            ]
          },
          "metadata": {
            "needs_background": "light"
          }
        },
        {
          "output_type": "stream",
          "name": "stdout",
          "text": [
            "La raíz es:  0.23662236332893372\n",
            "Se halló la raíz en la iteración N° 26 con una tolerancia =  1e-07\n",
            "Salió del bucle\n"
          ]
        },
        {
          "output_type": "display_data",
          "data": {
            "image/png": "[encoded data removed]",
            "text/plain": [
              "<Figure size 432x288 with 1 Axes>"
            ]
          },
          "metadata": {
            "needs_background": "light"
          }
        },
        {
          "output_type": "stream",
          "name": "stdout",
          "text": [
            "La raíz es:  0.23662234542689475\n",
            "Se halló la raíz en la iteración N° 42 con una tolerancia =  1e-12\n",
            "Salió del bucle\n"
          ]
        },
        {
          "output_type": "display_data",
          "data": {
            "image/png": "[encoded data removed]",
            "text/plain": [
              "<Figure size 432x288 with 1 Axes>"
            ]
          },
          "metadata": {
            "needs_background": "light"
          }
        }
      ]
    },
    {
      "cell_type": "code",
      "metadata": {
        "colab": {
          "base_uri": "https://localhost:8080/"
        },
        "id": "F4Ukg3zvFsGq",
        "outputId": "1ea6b43a-1540-40bb-c978-ce45b5774386"
      },
      "source": [
        "# Metodo Bisección- RAIZ 2\n",
        "  # Tol= 10e-2\n",
        "MetodoBiseccion(funcion= f4, a=5, b=9, tol=1e-2)\n",
        "  # Tol= 10e-2\n",
        "MetodoBiseccion(funcion= f4, a=5, b=9, tol=1e-5)\n",
        "  # Tol= 10e-2\n",
        "MetodoBiseccion(funcion= f4, a=5, b=9, tol=1e-7)\n",
        "  # Tol= 10e-2\n",
        "MetodoBiseccion(funcion= f4, a=5, b=9, tol=1e-12)"
      ],
      "execution_count": 25,
      "outputs": [
        {
          "output_type": "stream",
          "name": "stdout",
          "text": [
            "La raíz es:  7.23828125\n",
            "Se halló la raíz en la iteración N° 10\n",
            "Salió del bucle\n",
            "La raíz es:  7.240932464599609\n",
            "Se halló la raíz en la iteración N° 20\n",
            "Salió del bucle\n",
            "La raíz es:  7.240931063890457\n",
            "Se halló la raíz en la iteración N° 27\n",
            "Salió del bucle\n",
            "La raíz es:  7.24093105782822\n",
            "Se halló la raíz en la iteración N° 43\n",
            "Salió del bucle\n"
          ]
        }
      ]
    },
    {
      "cell_type": "markdown",
      "metadata": {
        "id": "7E5GbXIEhEmF"
      },
      "source": [
        "### 4-b) Metodo Punto Fijo"
      ]
    },
    {
      "cell_type": "code",
      "metadata": {
        "id": "eb0P86nuD4Iq"
      },
      "source": [
        "def funcion_g(x):\n",
        "    return 25/(-8*x**3+44*x**2+90*x+82)"
      ],
      "execution_count": 69,
      "outputs": []
    },
    {
      "cell_type": "markdown",
      "metadata": {
        "id": "2NuwaGNuKZ3Z"
      },
      "source": [
        "Nuevamente, este método reconoce solo 1 raíz, la otra solo aparece si pasa como parámetro p0 con un mayor número de cifras exactas que la tolerancia\n"
      ]
    },
    {
      "cell_type": "code",
      "metadata": {
        "colab": {
          "base_uri": "https://localhost:8080/"
        },
        "id": "qubxRxZJF-oq",
        "outputId": "7606408b-382b-4e10-a622-874b0ec4d327"
      },
      "source": [
        "# Método Punto Fijo- RAIZ 1\n",
        "#El método no logra identificar la segunda raiz, sino que vuelve a devolver la anterior independientemente del p0 que se pase por parámetro\n",
        "  # Tol= 10e-2\n",
        "MetodoPuntoFijo(p0=6, tol=10e-2)\n",
        "  # Tol= 10e-5\n",
        "MetodoPuntoFijo(p0=6, tol=10e-5)\n",
        "  # Tol= 10e-7\n",
        "MetodoPuntoFijo(p0=6, tol=10e-7)\n",
        "  # Tol= 10e-12\n",
        "MetodoPuntoFijo(p0=6, tol=10e-12)"
      ],
      "execution_count": 70,
      "outputs": [
        {
          "output_type": "stream",
          "name": "stdout",
          "text": [
            "El valor de p es: 0.22448\n",
            "Tolerancia: 0.1  Iteraciones: 3\n",
            "La función g evaluada en p es:  0.2396255190162467\n",
            "El valor de p es: 0.23663\n",
            "Tolerancia: 0.0001  Iteraciones: 8\n",
            "La función g evaluada en p es:  0.2366196885436748\n",
            "El valor de p es: 0.23662\n",
            "Tolerancia: 1e-06  Iteraciones: 11\n",
            "La función g evaluada en p es:  0.23662238459066967\n",
            "El valor de p es: 0.23662\n",
            "Tolerancia: 1e-11  Iteraciones: 20\n",
            "La función g evaluada en p es:  0.2366223454271629\n"
          ]
        }
      ]
    },
    {
      "cell_type": "code",
      "metadata": {
        "colab": {
          "base_uri": "https://localhost:8080/"
        },
        "id": "QMEp2JQPGTQV",
        "outputId": "1aa9ed5d-56f1-416a-f1be-875c0cb1f64b"
      },
      "source": [
        "# Método Punto Fijo- RAIZ 2\n",
        "#El método no logra identificar la segunda raiz, sino que vuelve a devolver la anterior independientemente del p0 que se pase por parámetro\n",
        "  # Tol= 10e-2\n",
        "MetodoPuntoFijo(p0=7.2409, tol=10e-2)\n",
        "  # Tol= 10e-5\n",
        "MetodoPuntoFijo(p0=7.240931, tol=10e-5)\n",
        "  # Tol= 10e-7\n",
        "MetodoPuntoFijo(p0=6, tol=10e-7)\n",
        "  # Tol= 10e-12\n",
        "MetodoPuntoFijo(p0=6, tol=10e-12)"
      ],
      "execution_count": 76,
      "outputs": [
        {
          "output_type": "stream",
          "name": "stdout",
          "text": [
            "El valor de p es: 7.20650\n",
            "Tolerancia: 0.1  Iteraciones: 1\n",
            "La función g evaluada en p es:  1.1580900598428707\n",
            "El valor de p es: 7.24087\n",
            "Tolerancia: 0.0001  Iteraciones: 1\n",
            "La función g evaluada en p es:  7.169880682098786\n",
            "El valor de p es: 0.23662\n",
            "Tolerancia: 1e-06  Iteraciones: 11\n",
            "La función g evaluada en p es:  0.23662238459066967\n",
            "El valor de p es: 0.23662\n",
            "Tolerancia: 1e-11  Iteraciones: 20\n",
            "La función g evaluada en p es:  0.2366223454271629\n"
          ]
        }
      ]
    },
    {
      "cell_type": "markdown",
      "metadata": {
        "id": "C8T7l1u-gZVE"
      },
      "source": [
        "### 4-c) Método Newton"
      ]
    },
    {
      "cell_type": "code",
      "metadata": {
        "id": "q5QezPQ0ci0s"
      },
      "source": [
        "# Método Newton- RAIZ 1\n",
        "  # Tol= 10e-2\n",
        "MetodoNewton(funcion=f4, p0=0, tol=10e-2)\n",
        "  # Tol= 10e-5\n",
        "MetodoNewton(funcion=f4, p0=0, tol=10e-5)\n",
        "  # Tol= 10e-7\n",
        "MetodoNewton(funcion=f4, p0=0, tol=10e-7)\n",
        "  # Tol= 10e-12\n",
        "MetodoNewton(funcion=f4, p0=0, tol=10e-12)"
      ],
      "execution_count": null,
      "outputs": []
    },
    {
      "cell_type": "code",
      "metadata": {
        "id": "tqb7sAmhVmRe"
      },
      "source": [
        "# Método Newton- RAIZ 2\n",
        "  # Tol= 10e-2\n",
        "MetodoNewton(funcion=f4, p0=6, tol=10e-2)\n",
        "  # Tol= 10e-5\n",
        "MetodoNewton(funcion=f4, p0=6, tol=10e-5)\n",
        "  # Tol= 10e-7\n",
        "MetodoNewton(funcion=f4, p0=6, tol=10e-7)\n",
        "  # Tol= 10e-12\n",
        "MetodoNewton(funcion=f4, p0=6, tol=10e-12)"
      ],
      "execution_count": null,
      "outputs": []
    },
    {
      "cell_type": "markdown",
      "metadata": {
        "id": "ImNF2AwbWfsL"
      },
      "source": [
        "# Comparación de Iteraciones\n",
        "La cantidad de iteraciones en el método de Bisección es mucho mayor que en los otros 2 (partiendo de un mismo valor inicial elegido por la información visual  del gráfico de cada función), lo cual implica un mayor costo computaconal, pero los resultados que se obtienen son confiables y completos (permite hallar todas las raíces, o la cantidad que se desee).\n",
        "El método de punto fijo llega a la raíz con una menor cantidad de iteraciones pero es capaz de buscar solo una, y luego puede reconocer las demás si se pasan al método como parámetro inicial.\n",
        "El método Newton permite hallar las distintas raíces en unas pocas iteraciones."
      ]
    }
  ]
}