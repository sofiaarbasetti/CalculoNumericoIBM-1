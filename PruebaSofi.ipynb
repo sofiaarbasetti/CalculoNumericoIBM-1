{
  "nbformat": 4,
  "nbformat_minor": 0,
  "metadata": {
    "colab": {
      "name": "PruebaSofi",
      "provenance": [],
      "authorship_tag": "ABX9TyM9PwH40GPgd4AfrqDp2Uku",
      "include_colab_link": true
    },
    "kernelspec": {
      "name": "python3",
      "display_name": "Python 3"
    },
    "language_info": {
      "name": "python"
    }
  },
  "cells": [
    {
      "cell_type": "markdown",
      "metadata": {
        "id": "view-in-github",
        "colab_type": "text"
      },
      "source": [
        "<a href=\"https://colab.research.google.com/github/sofiaarbasetti/CalculoNumericoIBM-1/blob/main/PruebaSofi.ipynb\" target=\"_parent\"><img src=\"https://colab.research.google.com/assets/colab-badge.svg\" alt=\"Open In Colab\"/></a>"
      ]
    },
    {
      "cell_type": "code",
      "metadata": {
        "id": "lplWCAPMk27P"
      },
      "source": [
        ""
      ],
      "execution_count": null,
      "outputs": []
    },
    {
      "cell_type": "markdown",
      "metadata": {
        "id": "4P9OoB1KlNtz"
      },
      "source": [
        "# Esto es una página "
      ]
    },
    {
      "cell_type": "code",
      "metadata": {
        "colab": {
          "base_uri": "https://localhost:8080/"
        },
        "id": "TZt4dg7GlVRo",
        "outputId": "0a257c69-9af2-4b02-9042-14e3c2c289ed"
      },
      "source": [
        "texto= \"Hola Mundo\"\n",
        "print (texto)"
      ],
      "execution_count": 1,
      "outputs": [
        {
          "output_type": "stream",
          "text": [
            "Hola Mundo\n"
          ],
          "name": "stdout"
        }
      ]
    },
    {
      "cell_type": "code",
      "metadata": {
        "colab": {
          "base_uri": "https://localhost:8080/"
        },
        "id": "bJfAeQSaqL5p",
        "outputId": "46820cd8-4c2f-4d0c-e719-1fe5dea31bc0"
      },
      "source": [
        "#Actividad: bucle while que finalice cuando se ingrese un entero por consola\n",
        "i= False\n",
        "while i==False:\n",
        "  valor = input(\"Ingresar Entero\")\n",
        "  if valor.isdigit()== True:\n",
        "    print(valor)\n",
        "    break\n"
      ],
      "execution_count": 19,
      "outputs": [
        {
          "output_type": "stream",
          "text": [
            "Ingresar Enterof\n",
            "Ingresar Entero4\n",
            "4\n"
          ],
          "name": "stdout"
        }
      ]
    },
    {
      "cell_type": "code",
      "metadata": {
        "colab": {
          "base_uri": "https://localhost:8080/",
          "height": 86
        },
        "id": "0sRuYb9rtk6t",
        "outputId": "163db275-2f9a-4dc8-caa3-42ac8c1c1258"
      },
      "source": [
        "# Solución Agustín\n",
        "def entrada():\n",
        "  x = 'a'\n",
        "  while x.isdigit() == False:\n",
        "    x = input(\"Ingresa un numero: \")\n",
        "  return x\n",
        "\n",
        "entrada()"
      ],
      "execution_count": 16,
      "outputs": [
        {
          "output_type": "stream",
          "text": [
            "Ingresa un numero: s\n",
            "Ingresa un numero: t\n",
            "Ingresa un numero: 1\n"
          ],
          "name": "stdout"
        },
        {
          "output_type": "execute_result",
          "data": {
            "application/vnd.google.colaboratory.intrinsic+json": {
              "type": "string"
            },
            "text/plain": [
              "'1'"
            ]
          },
          "metadata": {},
          "execution_count": 16
        }
      ]
    },
    {
      "cell_type": "code",
      "metadata": {
        "colab": {
          "base_uri": "https://localhost:8080/"
        },
        "id": "5SWcMWzYt9MQ",
        "outputId": "27a66fbe-9dbc-4c7b-85f8-8258949b34fd"
      },
      "source": [
        "# Solución Pedro\n",
        "def NumeroOCaracter (valorInput):\n",
        "    if str. isdigit(valorInput) == True:\n",
        "        print(\" es un numero \")\n",
        "    else:\n",
        "        print(\" es un caracter\")\n",
        "\n",
        "valorIngresado = input(\"Ingrese un numero o un caracter\")\n",
        "\n",
        "NumeroOCaracter(valorIngresado)"
      ],
      "execution_count": 14,
      "outputs": [
        {
          "output_type": "stream",
          "text": [
            "Ingrese un numero o un caracterd\n",
            " es un caracter\n"
          ],
          "name": "stdout"
        }
      ]
    }
  ]
}