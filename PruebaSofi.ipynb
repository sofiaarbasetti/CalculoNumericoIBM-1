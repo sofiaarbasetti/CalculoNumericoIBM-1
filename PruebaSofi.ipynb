{
  "nbformat": 4,
  "nbformat_minor": 0,
  "metadata": {
    "colab": {
      "name": "PruebaSofi",
      "provenance": [],
      "authorship_tag": "ABX9TyOWym4h0vHbzy1z4/8HuBdR",
      "include_colab_link": true
    },
    "kernelspec": {
      "name": "python3",
      "display_name": "Python 3"
    },
    "language_info": {
      "name": "python"
    }
  },
  "cells": [
    {
      "cell_type": "markdown",
      "metadata": {
        "id": "view-in-github",
        "colab_type": "text"
      },
      "source": [
        "<a href=\"https://colab.research.google.com/github/sofiaarbasetti/CalculoNumericoIBM-1/blob/main/PruebaSofi.ipynb\" target=\"_parent\"><img src=\"https://colab.research.google.com/assets/colab-badge.svg\" alt=\"Open In Colab\"/></a>"
      ]
    },
    {
      "cell_type": "code",
      "metadata": {
        "id": "lplWCAPMk27P"
      },
      "source": [
        ""
      ],
      "execution_count": null,
      "outputs": []
    },
    {
      "cell_type": "markdown",
      "metadata": {
        "id": "4P9OoB1KlNtz"
      },
      "source": [
        "# Esto es una página "
      ]
    },
    {
      "cell_type": "code",
      "metadata": {
        "colab": {
          "base_uri": "https://localhost:8080/"
        },
        "id": "TZt4dg7GlVRo",
        "outputId": "0a257c69-9af2-4b02-9042-14e3c2c289ed"
      },
      "source": [
        "texto= \"Hola Mundo\"\n",
        "print (texto)"
      ],
      "execution_count": 1,
      "outputs": [
        {
          "output_type": "stream",
          "text": [
            "Hola Mundo\n"
          ],
          "name": "stdout"
        }
      ]
    },
    {
      "cell_type": "code",
      "metadata": {
        "colab": {
          "base_uri": "https://localhost:8080/"
        },
        "id": "bJfAeQSaqL5p",
        "outputId": "cb733843-7355-4a99-9a4a-99228ab5539d"
      },
      "source": [
        "#Actividad: bucle while que finalice cuando se ingrese un entero por consola\n",
        "i= False\n",
        "while i==False:\n",
        "  valor = input(\"Ingresar Entero\")\n",
        "  if  == int:\n",
        "    print(valor)\n",
        "    break\n"
      ],
      "execution_count": null,
      "outputs": [
        {
          "output_type": "stream",
          "text": [
            "Ingresar Entero3\n"
          ],
          "name": "stdout"
        }
      ]
    }
  ]
}